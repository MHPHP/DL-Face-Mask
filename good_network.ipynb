{
 "cells": [
  {
   "cell_type": "code",
   "execution_count": 1,
   "metadata": {},
   "outputs": [],
   "source": [
    "# Load all packages\n",
    "import torch\n",
    "import torchvision\n",
    "import torchvision.transforms as transforms\n",
    "import os\n",
    "import numpy as np\n",
    "     \n",
    "from torchvision.io import read_image\n",
    "from torch.utils.data import Dataset\n",
    "from torchvision import datasets\n",
    "from torchvision.transforms import ToTensor\n",
    "import matplotlib.pyplot as plt\n",
    "import matplotlib\n",
    "from torch import nn\n",
    "import neptune.new as neptune\n",
    "import random"
   ]
  },
  {
   "cell_type": "code",
   "execution_count": null,
   "metadata": {},
   "outputs": [],
   "source": [
    "# Get the APi key, from outside the git folder.\n",
    "file = open(\"../API-key.txt\", \"r\")\n",
    "key = file.readlines()\n",
    "\n",
    "run = neptune.init(\n",
    "    project=\"Facemask-project/Facemask\",\n",
    "    api_token=key[0])\n",
    "\n",
    "# Choose the device:\n",
    "device = torch.device(\"cuda\") if torch.cuda.is_available() else torch.device(\"cpu\")"
   ]
  },
  {
   "cell_type": "code",
   "execution_count": 7,
   "metadata": {},
   "outputs": [],
   "source": [
    "run['namespace/Run_name'] = \"No_flat_layer_14\"\n",
    "run['sys/tags'].add(['size_125', \"no_argument\", \"no_flat_Layer\"])"
   ]
  },
  {
   "cell_type": "code",
   "execution_count": 2,
   "metadata": {},
   "outputs": [],
   "source": [
    "device = torch.device(\"cuda\") if torch.cuda.is_available() else torch.device(\"cpu\")\n",
    "\n",
    "#Create the data loader. This data\n",
    "class DataLoader():\n",
    "    def __init__(self, img_dir, img_dir2, transform = None, target_transform=None, transforms = None,\n",
    "                 random_perspective = None, flip = None):\n",
    "        self.img_dir = img_dir\n",
    "        self.img_dir2 = img_dir2\n",
    "        self.transform = transform\n",
    "        self.transforms = transforms\n",
    "        self.fileNames = os.listdir(img_dir)\n",
    "        self.random_perspective = random_perspective\n",
    "    def __len__(self):\n",
    "        return len(os.listdir(self.img_dir))\n",
    "\n",
    "    def __getitem__(self, idx):\n",
    "        label = self.fileNames[idx].rsplit(\"t-mask-\", 1 )[1]\n",
    "        img_path = os.path.join(self.img_dir, self.fileNames[idx])\n",
    "        img_path2 = os.path.join(self.img_dir2, label)\n",
    "        image = read_image(img_path)\n",
    "        target_image = read_image(img_path2)\n",
    "        image = image.clone().detach().float()\n",
    "        target_image = target_image.clone().detach().float()\n",
    "        if self.transforms:\n",
    "            image = self.transforms(image)\n",
    "            target_image = self.transforms(target_image)\n",
    "        if self.random_perspective:\n",
    "            if random.uniform(0,1) > 0.5:\n",
    "                scale = random.uniform(0,0.3)\n",
    "                startpoints, endpoints = transforms.RandomPerspective().get_params(50,50, distortion_scale=scale)\n",
    "                image = torchvision.transforms.functional.perspective(image, startpoints, endpoints)\n",
    "                target_image  = torchvision.transforms.functional.perspective(target_image, startpoints, endpoints)\n",
    "        \n",
    "        return image, target_image"
   ]
  },
  {
   "cell_type": "code",
   "execution_count": 3,
   "metadata": {},
   "outputs": [],
   "source": [
    "#Choose batch_size:\n",
    "batch_size = 25\n",
    "\n",
    "#create transformer with mean = 0 and std = 1.\n",
    "transformer=transforms.Compose([ transforms.Normalize((0, 0, 0), (1, 1, 1))])\n",
    "\n",
    "#Create the dataset with the dataloader:\n",
    "dataset = DataLoader(\"Data_small/125_with_mask_train\", \"Data_small/125_without_mask_train\",\n",
    "                     transform = transformer,\n",
    "                    random_perspective = None) \n",
    "\n",
    "# split the dataset into test and train set.\n",
    "test_size = int(0.2 * len(dataset))\n",
    "train_size = len(dataset) - test_size\n",
    "test_train_split = [test_size, train_size]\n",
    "testdata, traindata = torch.utils.data.random_split(dataset = dataset, lengths = test_train_split)\n",
    "\n",
    "# Set up dataloader and the test\n",
    "trainloader = torch.utils.data.DataLoader(traindata, \n",
    "                                          batch_size=batch_size, \n",
    "                                          shuffle=True, \n",
    "                                          num_workers=0,\n",
    "                                          pin_memory=True)\n",
    "testloader = torch.utils.data.DataLoader(testdata, \n",
    "                                          batch_size=1, \n",
    "                                          shuffle=True, \n",
    "                                          num_workers=0,\n",
    "                                          pin_memory=True)\n",
    "dataiter = iter(trainloader)\n"
   ]
  },
  {
   "cell_type": "code",
   "execution_count": 4,
   "metadata": {},
   "outputs": [
    {
     "name": "stderr",
     "output_type": "stream",
     "text": [
      "C:\\Users\\nbjer\\anaconda3\\lib\\site-packages\\torch\\nn\\functional.py:718: UserWarning: Named tensors and all their associated APIs are an experimental feature and subject to change. Please do not use them for anything important until they are released as stable. (Triggered internally at  ..\\c10/core/TensorImpl.h:1156.)\n",
      "  return torch.max_pool2d(input, kernel_size, stride, padding, dilation, ceil_mode)\n"
     ]
    },
    {
     "data": {
      "text/plain": [
       "torch.Size([25, 3, 125, 125])"
      ]
     },
     "execution_count": 4,
     "metadata": {},
     "output_type": "execute_result"
    }
   ],
   "source": [
    "# with auto encoder:\n",
    "\n",
    "import torch.nn.functional as F\n",
    "class ConvAutoencoder(nn.Module):\n",
    "    def __init__(self):\n",
    "        super(ConvAutoencoder, self).__init__()\n",
    "           \n",
    "        self.flatten = nn.Flatten()\n",
    "        self.linear1 = nn.Linear(7200,5000)\n",
    "        self.linear2 = nn.Linear(5000,4800)\n",
    "        self.linear3 = nn.Linear(4800,4500)\n",
    "  \n",
    "\n",
    "        #Encoder\n",
    "        self.conv1 = nn.Conv2d(3, 8, 3, padding=1)\n",
    "        self.conv11 = nn.Conv2d(8, 16, 3, padding=1) \n",
    "        self.conv2 = nn.Conv2d(16, 32, 5, padding=2)\n",
    "        self.conv3 = nn.Conv2d(32, 50, 7, padding=3)\n",
    "        self.conv4 = nn.Conv2d(50, 60, 5, padding=2)\n",
    "        self.conv5 = nn.Conv2d(60, 40, 3, padding=1)\n",
    "        self.conv6 = nn.Conv2d(40, 20, 3, padding=1)\n",
    "       \n",
    "        self.pool = nn.MaxPool2d(2, 2)\n",
    "        self.unflatten = nn.Unflatten(dim =1, unflattened_size = (20,15,15))\n",
    "        \n",
    "        #Decoder\n",
    "        self.t_conv1 = nn.ConvTranspose2d(20, 32, 2, stride=2, output_padding = 1)\n",
    "        self.t_conv2 = nn.ConvTranspose2d(32, 64, 2, stride=2)\n",
    "        self.decode_conv1 =  nn.Conv2d(64, 128, 5, padding=2)\n",
    "        self.t_conv3 = nn.ConvTranspose2d(128, 64 , 2, stride=2)\n",
    "        self.t_conv4 = nn.ConvTranspose2d(64, 32, 2, stride=1)\n",
    "        self.decode_conv2 = nn.Conv2d(32, 16, 5, padding=2)\n",
    "        self.decode_conv3 = nn.Conv2d(16, 3, 3, padding=1)\n",
    "        \n",
    "\n",
    "    \n",
    "    def encode(self, x):\n",
    "        x = F.relu(self.conv1(x))\n",
    "        x = F.relu(self.conv11(x))\n",
    "        x = F.relu(self.conv2(x))\n",
    "        x = self.pool(x)\n",
    "        x = F.relu(self.conv3(x))\n",
    "        x = F.relu(self.conv4(x))\n",
    "        x = self.pool(x)\n",
    "        x = F.relu(self.conv5(x))\n",
    "        x = self.pool(x)\n",
    "        x = F.relu(self.conv6(x))\n",
    "        return x\n",
    "    \n",
    "    def flatlayer(self, x):\n",
    "        x = self.flatten(x)\n",
    "        x = self.linear1(x)\n",
    "        x = F.relu(x)\n",
    "        x = self.linear2(x)\n",
    "        x = F.relu(x)\n",
    "        x = self.linear3(x)\n",
    "        x = self.unflatten(x)\n",
    "        return x\n",
    "    \n",
    "    def decode(self, x):\n",
    "        x = F.relu(self.t_conv1(x))\n",
    "        x = F.relu(self.t_conv2(x))\n",
    "        x = F.relu(self.decode_conv1(x))\n",
    "        x = F.relu(self.t_conv3(x))\n",
    "        x = F.relu(self.t_conv4(x))\n",
    "        x = F.relu(self.decode_conv2(x))\n",
    "        x = F.relu(self.decode_conv3(x))\n",
    "        return x\n",
    "        \n",
    "    def forward(self, x):\n",
    "        x = self.encode(x)\n",
    "        #x = self.flatlayer(x)\n",
    "        x = self.decode(x)      \n",
    "        return x\n",
    "\n",
    "\n",
    "#Instantiate the model\n",
    "model = ConvAutoencoder()\n",
    "\n",
    "#Send the model to the device\n",
    "model.to(device)\n",
    "# check the model output is the correct size\n",
    "model(dataiter.next()[0].to(device)).size()"
   ]
  },
  {
   "cell_type": "code",
   "execution_count": 5,
   "metadata": {},
   "outputs": [],
   "source": [
    "learning_rate = 0.0001\n",
    "#Loss function\n",
    "criterion = torch.nn.MSELoss()\n",
    "\n",
    "#Optimizer\n",
    "\n",
    "optimizer = torch.optim.Adam(model.parameters(), lr=learning_rate)"
   ]
  },
  {
   "cell_type": "code",
   "execution_count": 11,
   "metadata": {},
   "outputs": [],
   "source": [
    "def update_params():\n",
    "    run[\"parameters\"] = {\"lr\": learning_rate,\n",
    "                         \"optim\": str(optimizer).split(\" \")[0],\n",
    "                         \"loss_function\" : str(criterion),\n",
    "                         \"Batch_size\": batch_size,\n",
    "                         \"image_size\": 125\n",
    "                        }\n",
    "update_params()"
   ]
  },
  {
   "cell_type": "code",
   "execution_count": 12,
   "metadata": {},
   "outputs": [],
   "source": [
    "#Epochs\n",
    "def train(model, n_epochs = 10, criterion = criterion, optimizer = optimizer, trainloader = trainloader):\n",
    "    model.train()\n",
    "    for epoch in range(1, n_epochs+1):\n",
    "        # monitor training loss\n",
    "        train_loss = 0.0\n",
    "\n",
    "        #Training\n",
    "        for data in trainloader:\n",
    "            mask_image, image = data\n",
    "            mask_image , image = mask_image.to(device), image.to(device)\n",
    "            image = image.clone().detach().float()\n",
    "            mask_image = mask_image.clone().detach().float()\n",
    "            optimizer.zero_grad()\n",
    "            outputs = model(mask_image)\n",
    "            loss = criterion(outputs, image)\n",
    "            loss.backward()\n",
    "            optimizer.step()\n",
    "        if (epoch % 1 == 0):\n",
    "            train_loss += loss.item()\n",
    "            print('Epoch: {} \\tTraining Loss: {:.6f}'.format(epoch, train_loss))\n",
    "            run[\"train/loss\"].log(train_loss)\n",
    "        if (epoch % 50 ==0):\n",
    "            checpoint_name = \"checkpoint\" + str(epoch)\n",
    "            save_checkpoint(model, checpoint_name)"
   ]
  },
  {
   "cell_type": "code",
   "execution_count": 20,
   "metadata": {},
   "outputs": [
    {
     "name": "stdout",
     "output_type": "stream",
     "text": [
      "Epoch: 1 \tTraining Loss: 1299.314819\n",
      "Epoch: 2 \tTraining Loss: 1358.675293\n",
      "Epoch: 3 \tTraining Loss: 1166.563354\n",
      "Epoch: 4 \tTraining Loss: 1162.773315\n",
      "Epoch: 5 \tTraining Loss: 1250.303589\n",
      "Epoch: 6 \tTraining Loss: 1213.229736\n",
      "Epoch: 7 \tTraining Loss: 1277.083374\n",
      "Epoch: 8 \tTraining Loss: 1424.376343\n",
      "Epoch: 9 \tTraining Loss: 1193.001221\n",
      "Epoch: 10 \tTraining Loss: 1318.603516\n",
      "Epoch: 11 \tTraining Loss: 1413.476807\n",
      "Epoch: 12 \tTraining Loss: 1290.844971\n",
      "Epoch: 13 \tTraining Loss: 1189.323486\n",
      "Epoch: 14 \tTraining Loss: 1270.802002\n",
      "Epoch: 15 \tTraining Loss: 1149.318115\n",
      "Epoch: 16 \tTraining Loss: 1241.654663\n",
      "Epoch: 17 \tTraining Loss: 1233.787231\n",
      "Epoch: 18 \tTraining Loss: 1124.574829\n",
      "Epoch: 19 \tTraining Loss: 1243.419556\n",
      "Epoch: 20 \tTraining Loss: 1241.035278\n",
      "Epoch: 21 \tTraining Loss: 1186.104614\n",
      "Epoch: 22 \tTraining Loss: 1196.864746\n",
      "Epoch: 23 \tTraining Loss: 946.538879\n",
      "Epoch: 24 \tTraining Loss: 1135.568237\n",
      "Epoch: 25 \tTraining Loss: 904.596741\n",
      "Epoch: 26 \tTraining Loss: 1020.636719\n",
      "Epoch: 27 \tTraining Loss: 918.625122\n",
      "Epoch: 28 \tTraining Loss: 953.991943\n",
      "Epoch: 29 \tTraining Loss: 919.106689\n",
      "Epoch: 30 \tTraining Loss: 839.223572\n",
      "Epoch: 31 \tTraining Loss: 731.704956\n",
      "Epoch: 32 \tTraining Loss: 723.916687\n",
      "Epoch: 33 \tTraining Loss: 614.448914\n",
      "Epoch: 34 \tTraining Loss: 553.969482\n",
      "Epoch: 35 \tTraining Loss: 507.711975\n",
      "Epoch: 36 \tTraining Loss: 520.142639\n",
      "Epoch: 37 \tTraining Loss: 509.786926\n",
      "Epoch: 38 \tTraining Loss: 607.834412\n",
      "Epoch: 39 \tTraining Loss: 496.898773\n",
      "Epoch: 40 \tTraining Loss: 476.173218\n"
     ]
    }
   ],
   "source": [
    "model.train()\n",
    "train(model, n_epochs = 40)\n"
   ]
  },
  {
   "cell_type": "code",
   "execution_count": 7,
   "metadata": {},
   "outputs": [],
   "source": [
    "model = torch.load(\"god_model.pt\",map_location=torch.device('cpu'))"
   ]
  },
  {
   "cell_type": "code",
   "execution_count": 8,
   "metadata": {},
   "outputs": [],
   "source": [
    "def print_image(image, model, correct_image, neptune_upload = False):\n",
    "    fig, (ax1, ax2, ax3) = plt.subplots(1, 3)\n",
    "    ax1.imshow(np.transpose(image.numpy(), (1, 2, 0)).astype('uint8'))\n",
    "    ax2.imshow(np.transpose(correct_image.numpy(), (1, 2, 0)).astype('uint8'))\n",
    "    image = torch.unsqueeze(image,0)\n",
    "    image = image.clone().detach().float()\n",
    "    image = image.to(device)\n",
    "    output = model(image)\n",
    "    output = torch.squeeze(output,0)\n",
    "    if device.type == 'cuda':\n",
    "        output = torch.Tensor.cpu(output).clone().detach().numpy()\n",
    "    else:\n",
    "        output = output.clone().detach().numpy()\n",
    "        \n",
    "\n",
    "    ax3.imshow(np.transpose(output, (1, 2, 0)).astype('uint8'))\n",
    "    if neptune_upload:\n",
    "        run['Test_figures'].upload(fig)\n",
    "    plt.show()"
   ]
  },
  {
   "cell_type": "code",
   "execution_count": 9,
   "metadata": {},
   "outputs": [],
   "source": [
    "dataiter = iter(testloader)"
   ]
  },
  {
   "cell_type": "code",
   "execution_count": 11,
   "metadata": {},
   "outputs": [
    {
     "data": {
      "image/png": "[encoded data removed]",
      "text/plain": [
       "<Figure size 432x288 with 3 Axes>"
      ]
     },
     "metadata": {
      "needs_background": "light"
     },
     "output_type": "display_data"
    }
   ],
   "source": [
    "#Test a Model\n",
    "model.eval()\n",
    "\n",
    "images, images2 = dataiter.next()\n",
    "#print_image(images[0], model = model2, correct_image = images2[0])\n",
    "print_image(images[0], model = model, correct_image = images2[0])"
   ]
  },
  {
   "cell_type": "code",
   "execution_count": 29,
   "metadata": {},
   "outputs": [],
   "source": [
    "#Save the model as a artifact\n",
    "def save_checkpoint(model, checkpoint_name):\n",
    "    checkpoint_name_ext = checkpoint_name + \".pt\"\n",
    "    checkpoints = os.listdir(\"Checkpoints\")\n",
    "    path = os.path.join(\"Checkpoints\", checkpoint_name_ext)\n",
    "    try_number = 0\n",
    "    while (os.path.exists(path)):\n",
    "        try_number += 1\n",
    "        checkpoint_name_ext = checkpoint_name + \"_\" + str(try_number) + \".pt\"\n",
    "        path = os.path.join(\"Checkpoints\", checkpoint_name_ext)\n",
    "    torch.save(model, path)\n",
    "    neptune_checkpoint_path = 'model_checkpoints/' + checkpoint_name + \"_\" + str(try_number)\n",
    "    run[neptune_checkpoint_path].upload(path)"
   ]
  },
  {
   "cell_type": "code",
   "execution_count": 30,
   "metadata": {},
   "outputs": [],
   "source": [
    "save_checkpoint(model,\"size_125_Large_model_no_flatlayer_60_epochs\")"
   ]
  },
  {
   "cell_type": "code",
   "execution_count": 31,
   "metadata": {},
   "outputs": [],
   "source": [
    "run['sys/tags'].add([\"Decent\"])"
   ]
  },
  {
   "cell_type": "code",
   "execution_count": 32,
   "metadata": {},
   "outputs": [
    {
     "name": "stdout",
     "output_type": "stream",
     "text": [
      "Shutting down background jobs, please wait a moment...\n",
      "Done!\n"
     ]
    },
    {
     "name": "stderr",
     "output_type": "stream",
     "text": [
      "Waiting for the remaining 7 operations to synchronize with Neptune. Do not kill this process.\n",
      "Still waiting for the remaining 7 operations (0.00% done). Please wait.\n"
     ]
    },
    {
     "name": "stdout",
     "output_type": "stream",
     "text": [
      "All 7 operations synced, thanks for waiting!\n"
     ]
    }
   ],
   "source": [
    "run.stop()"
   ]
  },
  {
   "cell_type": "code",
   "execution_count": 12,
   "metadata": {},
   "outputs": [],
   "source": [
    "from skimage.metrics import structural_similarity as ssim"
   ]
  },
  {
   "cell_type": "code",
   "execution_count": 39,
   "metadata": {},
   "outputs": [],
   "source": [
    "def ssim_measure(img1, img2):\n",
    "    loss = 0\n",
    "    for i in range(3):\n",
    "        loss += 1/3*ssim(img1[i], img2[i])\n",
    "    \n",
    "    return loss"
   ]
  },
  {
   "cell_type": "code",
   "execution_count": 14,
   "metadata": {},
   "outputs": [],
   "source": [
    "images, images2 = dataiter.next()"
   ]
  },
  {
   "cell_type": "code",
   "execution_count": 16,
   "metadata": {},
   "outputs": [],
   "source": [
    "no_mask = torch.squeeze(images2,0).numpy()\n"
   ]
  },
  {
   "cell_type": "code",
   "execution_count": 30,
   "metadata": {},
   "outputs": [],
   "source": [
    "output = model(images)"
   ]
  },
  {
   "cell_type": "code",
   "execution_count": 36,
   "metadata": {},
   "outputs": [],
   "source": [
    "output = output.squeeze(0).detach().numpy()"
   ]
  },
  {
   "cell_type": "code",
   "execution_count": 40,
   "metadata": {},
   "outputs": [
    {
     "data": {
      "text/plain": [
       "0.6397804409237948"
      ]
     },
     "execution_count": 40,
     "metadata": {},
     "output_type": "execute_result"
    }
   ],
   "source": [
    "ssim_measure(output, no_mask)"
   ]
  },
  {
   "cell_type": "code",
   "execution_count": 32,
   "metadata": {},
   "outputs": [
    {
     "data": {
      "text/plain": [
       "tensor([[[[122.6047, 137.5239, 135.9972,  ..., 136.5306, 143.3687, 123.3076],\n",
       "          [132.6912, 129.0182, 127.7901,  ..., 138.0157, 143.5121, 141.7047],\n",
       "          [128.3496, 125.7758, 127.4232,  ..., 136.7095, 135.3774, 139.6746],\n",
       "          ...,\n",
       "          [120.9047, 122.5775, 114.8635,  ..., 103.9903, 102.2100, 100.2333],\n",
       "          [121.2808, 120.3977, 113.0540,  ..., 106.5363, 106.1206, 108.1413],\n",
       "          [110.6031, 120.8428, 113.6612,  ..., 107.3107, 111.6070, 101.4553]],\n",
       "\n",
       "         [[118.0889, 131.0032, 134.4741,  ..., 129.1161, 125.5269, 117.0557],\n",
       "          [126.3649, 125.0838, 128.6213,  ..., 133.4928, 135.1476, 132.6604],\n",
       "          [126.8617, 126.0406, 128.2815,  ..., 131.1884, 130.1684, 129.9839],\n",
       "          ...,\n",
       "          [113.8527, 109.1086, 102.6294,  ...,  93.0199,  90.0821,  92.3008],\n",
       "          [113.9137, 111.3873, 103.8610,  ...,  98.2964,  96.9200,  99.9688],\n",
       "          [ 99.1123, 109.0527, 101.8774,  ..., 101.8976, 104.9943,  95.0860]],\n",
       "\n",
       "         [[106.4467, 106.5122, 106.7566,  ..., 108.1780, 106.6100, 110.0152],\n",
       "          [100.5048, 103.6263, 104.9141,  ..., 102.1289, 106.9897, 106.9424],\n",
       "          [102.9307,  98.5783,  99.8573,  ...,  95.3441,  97.6652, 100.5318],\n",
       "          ...,\n",
       "          [109.2068,  99.1402,  90.7584,  ...,  87.0779,  85.2139,  85.8294],\n",
       "          [110.5332, 103.4397,  91.8807,  ...,  94.5659,  92.5730,  91.5787],\n",
       "          [ 95.4382,  97.7613,  90.3588,  ...,  95.1819,  98.2231,  85.6312]]]],\n",
       "       grad_fn=<ReluBackward0>)"
      ]
     },
     "execution_count": 32,
     "metadata": {},
     "output_type": "execute_result"
    }
   ],
   "source": [
    "output.squeeze"
   ]
  },
  {
   "cell_type": "code",
   "execution_count": null,
   "metadata": {},
   "outputs": [],
   "source": []
  }
 ],
 "metadata": {
  "kernelspec": {
   "display_name": "Python 3",
   "language": "python",
   "name": "python3"
  },
  "language_info": {
   "codemirror_mode": {
    "name": "ipython",
    "version": 3
   },
   "file_extension": ".py",
   "mimetype": "text/x-python",
   "name": "python",
   "nbconvert_exporter": "python",
   "pygments_lexer": "ipython3",
   "version": "3.7.6"
  },
  "neptune": {
   "notebookId": "206798db-397a-4951-862d-4ecfafdf6ab0",
   "projectVersion": 2
  }
 },
 "nbformat": 4,
 "nbformat_minor": 5
}
