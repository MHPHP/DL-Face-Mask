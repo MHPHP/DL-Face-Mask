{
 "cells": [
  {
   "cell_type": "code",
   "execution_count": 1,
   "metadata": {},
   "outputs": [
    {
     "data": {
      "text/plain": [
       "<matplotlib.pyplot._IonContext at 0x186ab76b490>"
      ]
     },
     "execution_count": 1,
     "metadata": {},
     "output_type": "execute_result"
    }
   ],
   "source": [
    "import torch\n",
    "import torchvision\n",
    "import torchvision.transforms as transforms\n",
    "\n",
    "import numpy as np\n",
    "import pandas as pd\n",
    "import os\n",
    "from torchvision.io import read_image\n",
    "from torch.utils.data import Dataset\n",
    "import matplotlib.pyplot as plt\n",
    "from torch import nn\n",
    "import torch.optim as optim\n",
    "import torch.nn.functional as F\n",
    "from torch import nn\n",
    "\n",
    "\n",
    "\n",
    "# Ignore warnings\n",
    "import warnings\n",
    "warnings.filterwarnings(\"ignore\")\n",
    "\n",
    "plt.ion()   # interactive mode"
   ]
  },
  {
   "cell_type": "code",
   "execution_count": 2,
   "metadata": {},
   "outputs": [],
   "source": [
    "\n",
    "#Create the data loader\n",
    "class DataLoader(Dataset):\n",
    "    def __init__(self, img_dir, img_dir2, transform = None, target_transform=None):\n",
    "        self.img_dir = img_dir\n",
    "        self.img_dir2 = img_dir2\n",
    "        self.transform = transform\n",
    "        self.fileNames = os.listdir(img_dir)\n",
    "    def __len__(self):\n",
    "        return len(os.listdir(self.img_dir))\n",
    "\n",
    "    def __getitem__(self, idx):\n",
    "        label = self.fileNames[idx].rsplit(\"t-mask-\", 1 )[1]\n",
    "        img_path = os.path.join(self.img_dir, self.fileNames[idx])\n",
    "        img_path2 = os.path.join(self.img_dir2, label)\n",
    "        image = read_image(img_path)\n",
    "        image2 = read_image(img_path2)\n",
    "        image = torch.tensor(image).float()\n",
    "        image2 = torch.tensor(image2).float()\n",
    "        if self.transform:\n",
    "            image = self.transform(image)\n",
    "            image2 = self.transform(image2)\n",
    "        return image, image2"
   ]
  },
  {
   "cell_type": "code",
   "execution_count": 3,
   "metadata": {},
   "outputs": [],
   "source": [
    "transformer=transforms.Compose([ transforms.Normalize((0, 0, 0), (1, 1, 1)) ])"
   ]
  },
  {
   "cell_type": "code",
   "execution_count": 236,
   "metadata": {},
   "outputs": [],
   "source": [
    "# Set up the data \n",
    "# load dataloader\n",
    "dataset = DataLoader(\"Data_small/50_with_mask\", \"Data_small/50_without_mask\",transform = transformer) \n",
    "# split the dataset\n",
    "test_size = int(0.2 * len(dataset))\n",
    "train_size = len(dataset) - test_size\n",
    "test_train_split = [test_size, train_size]\n",
    "test, traindata = torch.utils.data.random_split(dataset = dataset, lengths = test_train_split)\n",
    "\n",
    "# Set up dataloader\n",
    "batch_size = 25\n",
    "trainloader = torch.utils.data.DataLoader(traindata, \n",
    "                                          batch_size=batch_size, \n",
    "                                          shuffle=True, \n",
    "                                          num_workers=0)\n",
    "testloader = torch.utils.data.DataLoader(test, \n",
    "                                          batch_size=2, \n",
    "                                          shuffle=True, \n",
    "                                          num_workers=0)\n",
    "dataiter = iter(trainloader)\n"
   ]
  },
  {
   "cell_type": "code",
   "execution_count": 263,
   "metadata": {},
   "outputs": [],
   "source": [
    "\n",
    "\n",
    "class VAE(nn.Module):\n",
    "    def __init__(self):\n",
    "        \n",
    "        super(VAE, self).__init__()\n",
    "        self.flatten = nn.Flatten()\n",
    "        \n",
    "        self.linear1 = nn.Linear(12**3,1500)\n",
    "        self.linear2 = nn.Linear(1500,1200)\n",
    "\n",
    "        \n",
    "        self.unflatten = nn.Unflatten(dim =1, unflattened_size = (12,10,10))\n",
    "        \n",
    "        #Encoder\n",
    "        self.conv1 = nn.Conv2d(3, 16, 3, padding=1)  \n",
    "        self.conv2 = nn.Conv2d(16, 32, 3, padding=1)\n",
    "        self.conv3 = nn.Conv2d(32, 44, 3, padding=1)\n",
    "        self.conv4 = nn.Conv2d(44, 32, 3, padding=1)\n",
    "        self.conv5 = nn.Conv2d(32, 16, 3, padding=1)\n",
    "        self.conv6 = nn.Conv2d(16, 12, 3, padding=1)\n",
    "        self.conv7 = nn.Conv2d(16, 12, 3, padding=1)\n",
    "\n",
    "       \n",
    "        self.pool = nn.MaxPool2d(2, 2)\n",
    "        \n",
    "        #Decoder\n",
    "        self.t_conv1 = nn.ConvTranspose2d(12, 16, 3, stride=3, padding= 2)\n",
    "        self.t_conv2 = nn.ConvTranspose2d(16, 32, 3, stride=2, padding = 2)\n",
    "        self.t_conv3 = nn.ConvTranspose2d(32, 16 , 3, stride=1, padding = 1)\n",
    "        self.t_conv4 = nn.ConvTranspose2d(16, 8, 2, stride=1)\n",
    "        self.t_conv5 = nn.ConvTranspose2d(8, 3, 3, stride=1, padding = 1)\n",
    "        \n",
    "    \n",
    "    def encode(self, x):\n",
    "        x = F.relu(self.conv1(x))\n",
    "        x = self.pool(x)\n",
    "        x = F.relu(self.conv2(x))\n",
    "        x = F.relu(self.conv3(x))\n",
    "        x = F.relu(self.conv4(x))\n",
    "        x = F.relu(self.conv5(x))\n",
    "        x = self.pool(x)\n",
    "        mu = self.conv6(x)\n",
    "        log_sigma = self.conv7(x)\n",
    "        return mu, log_sigma\n",
    "\n",
    "    def reparameterize(self, mu, log_sigma):\n",
    "        std = torch.exp(0.5*log_sigma)\n",
    "        eps = torch.randn_like(std)\n",
    "        return eps.mul(std).add_(mu)\n",
    "    \n",
    "    \n",
    "    def flatlayer(self, x):\n",
    "        x = self.flatten(x)\n",
    "        x = self.linear1(x)\n",
    "        x = F.relu(x)\n",
    "        x = self.linear2(x)\n",
    "        return x\n",
    "    \n",
    "    def decode(self, x):\n",
    "        x = self.unflatten(x)\n",
    "        x = F.relu(self.t_conv1(x))\n",
    "        x = F.relu(self.t_conv2(x))\n",
    "        x = F.relu(self.t_conv3(x))\n",
    "        x = F.relu(self.t_conv4(x))\n",
    "        x = F.relu(self.t_conv5(x))\n",
    "        return x\n",
    "        \n",
    "        \n",
    "    def forward(self, x):\n",
    "        mu, log_sigma = self.encode(x)\n",
    "        mu = self.flatlayer(mu)\n",
    "        log_sigma = self.flatlayer(log_sigma)\n",
    "        z = self.reparameterize(mu, log_sigma)\n",
    "        x = self.decode(z)      \n",
    "        return x, mu, log_sigma\n",
    "\n",
    "\n",
    "   "
   ]
  },
  {
   "cell_type": "code",
   "execution_count": 264,
   "metadata": {},
   "outputs": [],
   "source": [
    "vae = VAE()"
   ]
  },
  {
   "cell_type": "code",
   "execution_count": 265,
   "metadata": {},
   "outputs": [],
   "source": [
    "optimizer = optim.Adam(vae.parameters(), lr=0.0001)"
   ]
  },
  {
   "cell_type": "code",
   "execution_count": 266,
   "metadata": {},
   "outputs": [
    {
     "data": {
      "text/plain": [
       "VAE(\n",
       "  (flatten): Flatten(start_dim=1, end_dim=-1)\n",
       "  (linear1): Linear(in_features=1728, out_features=1500, bias=True)\n",
       "  (linear2): Linear(in_features=1500, out_features=1200, bias=True)\n",
       "  (unflatten): Unflatten(dim=1, unflattened_size=(12, 10, 10))\n",
       "  (conv1): Conv2d(3, 16, kernel_size=(3, 3), stride=(1, 1), padding=(1, 1))\n",
       "  (conv2): Conv2d(16, 32, kernel_size=(3, 3), stride=(1, 1), padding=(1, 1))\n",
       "  (conv3): Conv2d(32, 44, kernel_size=(3, 3), stride=(1, 1), padding=(1, 1))\n",
       "  (conv4): Conv2d(44, 32, kernel_size=(3, 3), stride=(1, 1), padding=(1, 1))\n",
       "  (conv5): Conv2d(32, 16, kernel_size=(3, 3), stride=(1, 1), padding=(1, 1))\n",
       "  (conv6): Conv2d(16, 12, kernel_size=(3, 3), stride=(1, 1), padding=(1, 1))\n",
       "  (conv7): Conv2d(16, 12, kernel_size=(3, 3), stride=(1, 1), padding=(1, 1))\n",
       "  (pool): MaxPool2d(kernel_size=2, stride=2, padding=0, dilation=1, ceil_mode=False)\n",
       "  (t_conv1): ConvTranspose2d(12, 16, kernel_size=(3, 3), stride=(3, 3), padding=(2, 2))\n",
       "  (t_conv2): ConvTranspose2d(16, 32, kernel_size=(3, 3), stride=(2, 2), padding=(2, 2))\n",
       "  (t_conv3): ConvTranspose2d(32, 16, kernel_size=(3, 3), stride=(1, 1), padding=(1, 1))\n",
       "  (t_conv4): ConvTranspose2d(16, 8, kernel_size=(2, 2), stride=(1, 1))\n",
       "  (t_conv5): ConvTranspose2d(8, 3, kernel_size=(3, 3), stride=(1, 1), padding=(1, 1))\n",
       ")"
      ]
     },
     "execution_count": 266,
     "metadata": {},
     "output_type": "execute_result"
    }
   ],
   "source": [
    "device = torch.device(\"cuda\") if torch.cuda.is_available() else torch.device(\"cpu\")\n",
    "vae.to(device)"
   ]
  },
  {
   "cell_type": "code",
   "execution_count": 267,
   "metadata": {},
   "outputs": [],
   "source": [
    "import random\n",
    "def loss_function(recon_x, x, mu, z_log_sigma):\n",
    "    loss = nn.MSELoss()\n",
    "    l = loss(recon_x, x)\n",
    "    KLD =  torch.sum( z_log_sigma.exp() + mu.pow(2) - z_log_sigma   - 1) #definition fra slides\n",
    "    #KLD *= 1000\n",
    "    if random.randint(1,200) == 1:\n",
    "        print(\"Normal Loss: \", l, \"     KLD: \", KLD)\n",
    "    return l + KLD*0.00001"
   ]
  },
  {
   "cell_type": "code",
   "execution_count": 268,
   "metadata": {},
   "outputs": [],
   "source": [
    "def train(epoch):\n",
    "    vae.train()\n",
    "    \n",
    "    i = 0\n",
    "    for data in trainloader:\n",
    "        i += 1\n",
    "        \n",
    "        mask_image, image = data    \n",
    "        optimizer.zero_grad()\n",
    "        mask_image , image = mask_image.to(device), image.to(device)\n",
    "        recon_batch, mu, log_sigma = vae(mask_image)\n",
    "        \n",
    "        loss = loss_function(recon_batch, image, mu, log_sigma)\n",
    "        \n",
    "        loss.backward()\n",
    "        optimizer.step()\n",
    "    \n",
    "    print(\"Epoch\", epoch, \"  Loss: \", loss.item())"
   ]
  },
  {
   "cell_type": "code",
   "execution_count": 269,
   "metadata": {},
   "outputs": [
    {
     "name": "stdout",
     "output_type": "stream",
     "text": [
      "Normal Loss:  tensor(8582.5303, device='cuda:0', grad_fn=<MseLossBackward>)      KLD:  tensor(36629840., device='cuda:0', grad_fn=<SumBackward0>)\n",
      "Normal Loss:  tensor(1799.3831, device='cuda:0', grad_fn=<MseLossBackward>)      KLD:  tensor(32397028., device='cuda:0', grad_fn=<SumBackward0>)\n",
      "Epoch 1   Loss:  1660.23876953125\n",
      "Normal Loss:  tensor(1337.0808, device='cuda:0', grad_fn=<MseLossBackward>)      KLD:  tensor(18057410., device='cuda:0', grad_fn=<SumBackward0>)\n",
      "Epoch 2   Loss:  959.935546875\n",
      "Normal Loss:  tensor(932.5034, device='cuda:0', grad_fn=<MseLossBackward>)      KLD:  tensor(8141890., device='cuda:0', grad_fn=<SumBackward0>)\n",
      "Epoch 3   Loss:  715.5216674804688\n",
      "Normal Loss:  tensor(680.9491, device='cuda:0', grad_fn=<MseLossBackward>)      KLD:  tensor(4531862.5000, device='cuda:0', grad_fn=<SumBackward0>)\n",
      "Normal Loss:  tensor(650.5453, device='cuda:0', grad_fn=<MseLossBackward>)      KLD:  tensor(3525985.5000, device='cuda:0', grad_fn=<SumBackward0>)\n",
      "Epoch 4   Loss:  675.93701171875\n",
      "Epoch 5   Loss:  625.2725830078125\n",
      "Normal Loss:  tensor(540.1119, device='cuda:0', grad_fn=<MseLossBackward>)      KLD:  tensor(2264964.5000, device='cuda:0', grad_fn=<SumBackward0>)\n",
      "Epoch 6   Loss:  518.1107788085938\n",
      "Normal Loss:  tensor(525.2568, device='cuda:0', grad_fn=<MseLossBackward>)      KLD:  tensor(2299113.7500, device='cuda:0', grad_fn=<SumBackward0>)\n",
      "Normal Loss:  tensor(532.8866, device='cuda:0', grad_fn=<MseLossBackward>)      KLD:  tensor(2198512.7500, device='cuda:0', grad_fn=<SumBackward0>)\n",
      "Normal Loss:  tensor(506.9484, device='cuda:0', grad_fn=<MseLossBackward>)      KLD:  tensor(1996753.3750, device='cuda:0', grad_fn=<SumBackward0>)\n",
      "Epoch 7   Loss:  550.0752563476562\n",
      "Normal Loss:  tensor(507.5164, device='cuda:0', grad_fn=<MseLossBackward>)      KLD:  tensor(1559088.1250, device='cuda:0', grad_fn=<SumBackward0>)\n",
      "Normal Loss:  tensor(487.7804, device='cuda:0', grad_fn=<MseLossBackward>)      KLD:  tensor(1723512.7500, device='cuda:0', grad_fn=<SumBackward0>)\n",
      "Epoch 8   Loss:  518.1978759765625\n",
      "Normal Loss:  tensor(525.5709, device='cuda:0', grad_fn=<MseLossBackward>)      KLD:  tensor(1785589., device='cuda:0', grad_fn=<SumBackward0>)\n",
      "Normal Loss:  tensor(519.3455, device='cuda:0', grad_fn=<MseLossBackward>)      KLD:  tensor(1726423.5000, device='cuda:0', grad_fn=<SumBackward0>)\n",
      "Normal Loss:  tensor(500.7860, device='cuda:0', grad_fn=<MseLossBackward>)      KLD:  tensor(1678730.7500, device='cuda:0', grad_fn=<SumBackward0>)\n",
      "Epoch 9   Loss:  527.6024780273438\n",
      "Normal Loss:  tensor(586.2310, device='cuda:0', grad_fn=<MseLossBackward>)      KLD:  tensor(1545553., device='cuda:0', grad_fn=<SumBackward0>)\n",
      "Normal Loss:  tensor(471.4194, device='cuda:0', grad_fn=<MseLossBackward>)      KLD:  tensor(1293305.2500, device='cuda:0', grad_fn=<SumBackward0>)\n",
      "Normal Loss:  tensor(485.4669, device='cuda:0', grad_fn=<MseLossBackward>)      KLD:  tensor(1573721.6250, device='cuda:0', grad_fn=<SumBackward0>)\n",
      "Normal Loss:  tensor(454.9101, device='cuda:0', grad_fn=<MseLossBackward>)      KLD:  tensor(1338260.7500, device='cuda:0', grad_fn=<SumBackward0>)\n",
      "Epoch 10   Loss:  468.292724609375\n",
      "Normal Loss:  tensor(501.2745, device='cuda:0', grad_fn=<MseLossBackward>)      KLD:  tensor(1297451.5000, device='cuda:0', grad_fn=<SumBackward0>)\n",
      "Epoch 11   Loss:  494.22955322265625\n",
      "Normal Loss:  tensor(439.7802, device='cuda:0', grad_fn=<MseLossBackward>)      KLD:  tensor(1074044.1250, device='cuda:0', grad_fn=<SumBackward0>)\n",
      "Epoch 12   Loss:  405.8507385253906\n",
      "Normal Loss:  tensor(390.3628, device='cuda:0', grad_fn=<MseLossBackward>)      KLD:  tensor(1158721.5000, device='cuda:0', grad_fn=<SumBackward0>)\n",
      "Epoch 13   Loss:  526.5988159179688\n",
      "Normal Loss:  tensor(394.9570, device='cuda:0', grad_fn=<MseLossBackward>)      KLD:  tensor(1116584., device='cuda:0', grad_fn=<SumBackward0>)\n",
      "Normal Loss:  tensor(429.4230, device='cuda:0', grad_fn=<MseLossBackward>)      KLD:  tensor(984330.5000, device='cuda:0', grad_fn=<SumBackward0>)\n",
      "Epoch 14   Loss:  400.15435791015625\n",
      "Normal Loss:  tensor(394.5857, device='cuda:0', grad_fn=<MseLossBackward>)      KLD:  tensor(1202958.5000, device='cuda:0', grad_fn=<SumBackward0>)\n",
      "Normal Loss:  tensor(428.8673, device='cuda:0', grad_fn=<MseLossBackward>)      KLD:  tensor(1071529.5000, device='cuda:0', grad_fn=<SumBackward0>)\n",
      "Normal Loss:  tensor(429.6446, device='cuda:0', grad_fn=<MseLossBackward>)      KLD:  tensor(1187309.7500, device='cuda:0', grad_fn=<SumBackward0>)\n",
      "Normal Loss:  tensor(419.9219, device='cuda:0', grad_fn=<MseLossBackward>)      KLD:  tensor(1156837.2500, device='cuda:0', grad_fn=<SumBackward0>)\n",
      "Epoch 15   Loss:  389.7369079589844\n",
      "Normal Loss:  tensor(391.9254, device='cuda:0', grad_fn=<MseLossBackward>)      KLD:  tensor(1007571.8750, device='cuda:0', grad_fn=<SumBackward0>)\n",
      "Normal Loss:  tensor(376.5170, device='cuda:0', grad_fn=<MseLossBackward>)      KLD:  tensor(1109462.2500, device='cuda:0', grad_fn=<SumBackward0>)\n",
      "Normal Loss:  tensor(391.3719, device='cuda:0', grad_fn=<MseLossBackward>)      KLD:  tensor(996992.1250, device='cuda:0', grad_fn=<SumBackward0>)\n",
      "Normal Loss:  tensor(407.5077, device='cuda:0', grad_fn=<MseLossBackward>)      KLD:  tensor(1168464.5000, device='cuda:0', grad_fn=<SumBackward0>)\n",
      "Epoch 16   Loss:  399.24627685546875\n",
      "Normal Loss:  tensor(335.7306, device='cuda:0', grad_fn=<MseLossBackward>)      KLD:  tensor(997481.3750, device='cuda:0', grad_fn=<SumBackward0>)\n",
      "Epoch 17   Loss:  352.9739074707031\n",
      "Normal Loss:  tensor(377.6907, device='cuda:0', grad_fn=<MseLossBackward>)      KLD:  tensor(1010425., device='cuda:0', grad_fn=<SumBackward0>)\n",
      "Normal Loss:  tensor(401.6506, device='cuda:0', grad_fn=<MseLossBackward>)      KLD:  tensor(989610.4375, device='cuda:0', grad_fn=<SumBackward0>)\n",
      "Normal Loss:  tensor(348.3483, device='cuda:0', grad_fn=<MseLossBackward>)      KLD:  tensor(1112213.2500, device='cuda:0', grad_fn=<SumBackward0>)\n",
      "Epoch 18   Loss:  350.6943664550781\n",
      "Epoch 19   Loss:  414.6650390625\n"
     ]
    }
   ],
   "source": [
    "for epoch in range(1, 20):\n",
    "    train(epoch)"
   ]
  },
  {
   "cell_type": "code",
   "execution_count": 270,
   "metadata": {},
   "outputs": [],
   "source": [
    "def print_image(image, model, correct_image):\n",
    "    fig, (ax1, ax2, ax3) = plt.subplots(1, 3)\n",
    "    ax1.imshow(np.transpose(image.numpy(), (1, 2, 0)).astype('uint8'))\n",
    "    ax2.imshow(np.transpose(correct_image.numpy(), (1, 2, 0)).astype('uint8'))\n",
    "    image = torch.unsqueeze(image,0)\n",
    "    image = torch.tensor(image).float()\n",
    "    image = image.to(device)\n",
    "    output = model(image)[0]\n",
    "    output = torch.squeeze(output,0)\n",
    "    if device.type == 'cuda':\n",
    "        output = torch.Tensor.cpu(output).detach().numpy()\n",
    "    else:\n",
    "        output = output.detach().numpy()\n",
    "        \n",
    "\n",
    "    ax3.imshow(np.transpose(output, (1, 2, 0)).astype('uint8'))\n",
    "    plt.show()"
   ]
  },
  {
   "cell_type": "code",
   "execution_count": 271,
   "metadata": {},
   "outputs": [
    {
     "data": {
      "image/png": "[encoded data removed]",
      "text/plain": [
       "<Figure size 432x288 with 3 Axes>"
      ]
     },
     "metadata": {
      "needs_background": "light"
     },
     "output_type": "display_data"
    }
   ],
   "source": [
    "dataiter = iter(testloader)\n",
    "\n",
    "\n",
    "images, images2 = dataiter.next()\n",
    "print_image(images[0], model = vae, correct_image = images2[0])"
   ]
  },
  {
   "cell_type": "code",
   "execution_count": null,
   "metadata": {},
   "outputs": [],
   "source": []
  }
 ],
 "metadata": {
  "kernelspec": {
   "display_name": "Python 3 (ipykernel)",
   "language": "python",
   "name": "python3"
  },
  "language_info": {
   "codemirror_mode": {
    "name": "ipython",
    "version": 3
   },
   "file_extension": ".py",
   "mimetype": "text/x-python",
   "name": "python",
   "nbconvert_exporter": "python",
   "pygments_lexer": "ipython3",
   "version": "3.8.11"
  }
 },
 "nbformat": 4,
 "nbformat_minor": 4
}
