{
 "cells": [
  {
   "cell_type": "code",
   "execution_count": 1,
   "metadata": {},
   "outputs": [
    {
     "data": {
      "text/plain": [
       "<matplotlib.pyplot._IonContext at 0x186ab76b490>"
      ]
     },
     "execution_count": 1,
     "metadata": {},
     "output_type": "execute_result"
    }
   ],
   "source": [
    "import torch\n",
    "import torchvision\n",
    "import torchvision.transforms as transforms\n",
    "\n",
    "import numpy as np\n",
    "import pandas as pd\n",
    "import os\n",
    "from torchvision.io import read_image\n",
    "from torch.utils.data import Dataset\n",
    "import matplotlib.pyplot as plt\n",
    "from torch import nn\n",
    "import torch.optim as optim\n",
    "import torch.nn.functional as F\n",
    "from torch import nn\n",
    "\n",
    "\n",
    "\n",
    "# Ignore warnings\n",
    "import warnings\n",
    "warnings.filterwarnings(\"ignore\")\n",
    "\n",
    "plt.ion()   # interactive mode"
   ]
  },
  {
   "cell_type": "code",
   "execution_count": 2,
   "metadata": {},
   "outputs": [],
   "source": [
    "\n",
    "#Create the data loader\n",
    "class DataLoader(Dataset):\n",
    "    def __init__(self, img_dir, img_dir2, transform = None, target_transform=None):\n",
    "        self.img_dir = img_dir\n",
    "        self.img_dir2 = img_dir2\n",
    "        self.transform = transform\n",
    "        self.fileNames = os.listdir(img_dir)\n",
    "    def __len__(self):\n",
    "        return len(os.listdir(self.img_dir))\n",
    "\n",
    "    def __getitem__(self, idx):\n",
    "        label = self.fileNames[idx].rsplit(\"t-mask-\", 1 )[1]\n",
    "        img_path = os.path.join(self.img_dir, self.fileNames[idx])\n",
    "        img_path2 = os.path.join(self.img_dir2, label)\n",
    "        image = read_image(img_path)\n",
    "        image2 = read_image(img_path2)\n",
    "        image = torch.tensor(image).float()\n",
    "        image2 = torch.tensor(image2).float()\n",
    "        if self.transform:\n",
    "            image = self.transform(image)\n",
    "            image2 = self.transform(image2)\n",
    "        return image, image2"
   ]
  },
  {
   "cell_type": "code",
   "execution_count": 3,
   "metadata": {},
   "outputs": [],
   "source": [
    "transformer=transforms.Compose([ transforms.Normalize((0, 0, 0), (1, 1, 1)) ])"
   ]
  },
  {
   "cell_type": "code",
   "execution_count": 4,
   "metadata": {},
   "outputs": [],
   "source": [
    "# Set up the data \n",
    "# load dataloader\n",
    "dataset = DataLoader(\"Data_small/50_with_mask\", \"Data_small/50_without_mask\",transform = transformer) \n",
    "# split the dataset\n",
    "test_size = int(0.2 * len(dataset))\n",
    "train_size = len(dataset) - test_size\n",
    "test_train_split = [test_size, train_size]\n",
    "test, traindata = torch.utils.data.random_split(dataset = dataset, lengths = test_train_split)\n",
    "\n",
    "# Set up dataloader\n",
    "batch_size = 25\n",
    "trainloader = torch.utils.data.DataLoader(traindata, \n",
    "                                          batch_size=batch_size, \n",
    "                                          shuffle=True, \n",
    "                                          num_workers=0)\n",
    "testloader = torch.utils.data.DataLoader(test, \n",
    "                                          batch_size=2, \n",
    "                                          shuffle=True, \n",
    "                                          num_workers=0)\n",
    "dataiter = iter(trainloader)\n"
   ]
  },
  {
   "cell_type": "code",
   "execution_count": 5,
   "metadata": {},
   "outputs": [],
   "source": [
    "bottleneck_size = 25\n",
    "\n",
    "\n",
    "class VAE(nn.Module):\n",
    "    def __init__(self):\n",
    "        \n",
    "        super(VAE, self).__init__()\n",
    "        self.flatten = nn.Flatten()\n",
    "        \n",
    "        self.linear1 = nn.Linear(12**3,1500)\n",
    "        self.linear2 = nn.Linear(1500,1200)\n",
    "\n",
    "        \n",
    "        self.unflatten = nn.Unflatten(dim =1, unflattened_size = (12,10,10))\n",
    "        \n",
    "        #Encoder\n",
    "        self.conv1 = nn.Conv2d(3, 16, 3, padding=1)  \n",
    "        self.conv2 = nn.Conv2d(16, 32, 3, padding=1)\n",
    "        self.conv3 = nn.Conv2d(32, 44, 3, padding=1)\n",
    "        self.conv4 = nn.Conv2d(44, 32, 3, padding=1)\n",
    "        self.conv5 = nn.Conv2d(32, 16, 3, padding=1)\n",
    "        self.conv6 = nn.Conv2d(16, 12, 3, padding=1)\n",
    "        self.conv7 = nn.Conv2d(16, 12, 3, padding=1)\n",
    "\n",
    "       \n",
    "        self.pool = nn.MaxPool2d(2, 2)\n",
    "        \n",
    "        #Decoder\n",
    "        self.t_conv1 = nn.ConvTranspose2d(12, 16, 3, stride=3, padding= 2)\n",
    "        self.t_conv2 = nn.ConvTranspose2d(16, 32, 3, stride=2, padding = 2)\n",
    "        self.t_conv3 = nn.ConvTranspose2d(32, 16 , 3, stride=1, padding = 1)\n",
    "        self.t_conv4 = nn.ConvTranspose2d(16, 8, 2, stride=1)\n",
    "        self.t_conv5 = nn.ConvTranspose2d(8, 3, 3, stride=1, padding = 1)\n",
    "        \n",
    "    \n",
    "    def encode(self, x):\n",
    "        x = F.relu(self.conv1(x))\n",
    "        x = self.pool(x)\n",
    "        x = F.relu(self.conv2(x))\n",
    "        x = F.relu(self.conv3(x))\n",
    "        x = F.relu(self.conv4(x))\n",
    "        x = F.relu(self.conv5(x))\n",
    "        x = self.pool(x)\n",
    "        mu = self.conv6(x)\n",
    "        log_sigma = self.conv7(x)\n",
    "        return mu, log_sigma\n",
    "\n",
    "    def reparameterize(self, mu, log_sigma):\n",
    "        std = torch.exp(0.5*log_sigma)\n",
    "        eps = torch.randn_like(std)\n",
    "        return eps.mul(std).add_(mu)\n",
    "    \n",
    "    \n",
    "    def flatlayer(self, x):\n",
    "        x = self.flatten(x)\n",
    "        x = self.linear1(x)\n",
    "        x = F.relu(x)\n",
    "        x = self.linear2(x)\n",
    "        return F.relu(x)\n",
    "    \n",
    "    def decode(self, x):\n",
    "        x = self.unflatten(x)\n",
    "        x = F.relu(self.t_conv1(x))\n",
    "        x = F.relu(self.t_conv2(x))\n",
    "        x = F.relu(self.t_conv3(x))\n",
    "        x = F.relu(self.t_conv4(x))\n",
    "        x = F.relu(self.t_conv5(x))\n",
    "        return x\n",
    "        \n",
    "        \n",
    "    def forward(self, x):\n",
    "        mu, log_sigma = self.encode(x)\n",
    "        mu = self.flatlayer(mu)\n",
    "        log_sigma = self.flatlayer(log_sigma)\n",
    "        z = self.reparameterize(mu, log_sigma)\n",
    "        x = self.decode(z)      \n",
    "        return x, mu, log_sigma\n",
    "\n",
    "\n",
    "   "
   ]
  },
  {
   "cell_type": "code",
   "execution_count": 12,
   "metadata": {},
   "outputs": [],
   "source": [
    "vae = VAE()"
   ]
  },
  {
   "cell_type": "code",
   "execution_count": 13,
   "metadata": {},
   "outputs": [],
   "source": [
    "optimizer = optim.Adam(vae.parameters(), lr=0.001)"
   ]
  },
  {
   "cell_type": "code",
   "execution_count": 14,
   "metadata": {},
   "outputs": [
    {
     "data": {
      "text/plain": [
       "VAE(\n",
       "  (flatten): Flatten(start_dim=1, end_dim=-1)\n",
       "  (linear1): Linear(in_features=1728, out_features=1500, bias=True)\n",
       "  (linear2): Linear(in_features=1500, out_features=1200, bias=True)\n",
       "  (unflatten): Unflatten(dim=1, unflattened_size=(12, 10, 10))\n",
       "  (conv1): Conv2d(3, 16, kernel_size=(3, 3), stride=(1, 1), padding=(1, 1))\n",
       "  (conv2): Conv2d(16, 32, kernel_size=(3, 3), stride=(1, 1), padding=(1, 1))\n",
       "  (conv3): Conv2d(32, 44, kernel_size=(3, 3), stride=(1, 1), padding=(1, 1))\n",
       "  (conv4): Conv2d(44, 32, kernel_size=(3, 3), stride=(1, 1), padding=(1, 1))\n",
       "  (conv5): Conv2d(32, 16, kernel_size=(3, 3), stride=(1, 1), padding=(1, 1))\n",
       "  (conv6): Conv2d(16, 12, kernel_size=(3, 3), stride=(1, 1), padding=(1, 1))\n",
       "  (conv7): Conv2d(16, 12, kernel_size=(3, 3), stride=(1, 1), padding=(1, 1))\n",
       "  (pool): MaxPool2d(kernel_size=2, stride=2, padding=0, dilation=1, ceil_mode=False)\n",
       "  (t_conv1): ConvTranspose2d(12, 16, kernel_size=(3, 3), stride=(3, 3), padding=(2, 2))\n",
       "  (t_conv2): ConvTranspose2d(16, 32, kernel_size=(3, 3), stride=(2, 2), padding=(2, 2))\n",
       "  (t_conv3): ConvTranspose2d(32, 16, kernel_size=(3, 3), stride=(1, 1), padding=(1, 1))\n",
       "  (t_conv4): ConvTranspose2d(16, 8, kernel_size=(2, 2), stride=(1, 1))\n",
       "  (t_conv5): ConvTranspose2d(8, 3, kernel_size=(3, 3), stride=(1, 1), padding=(1, 1))\n",
       ")"
      ]
     },
     "execution_count": 14,
     "metadata": {},
     "output_type": "execute_result"
    }
   ],
   "source": [
    "device = torch.device(\"cuda\") if torch.cuda.is_available() else torch.device(\"cpu\")\n",
    "vae.to(device)"
   ]
  },
  {
   "cell_type": "code",
   "execution_count": 15,
   "metadata": {},
   "outputs": [],
   "source": [
    "def loss_function(recon_x, x, mu, z_log_sigma):\n",
    "    loss = nn.MSELoss()\n",
    "    l = loss(recon_x, x)\n",
    "    KLD =  torch.sum( z_log_sigma.exp() + mu.pow(2) - z_log_sigma   - 1) #definition fra slides\n",
    "    #KLD *= 5\n",
    "    \n",
    "    return l + KLD"
   ]
  },
  {
   "cell_type": "code",
   "execution_count": 16,
   "metadata": {},
   "outputs": [],
   "source": [
    "def train(epoch):\n",
    "    vae.train()\n",
    "    \n",
    "    i = 0\n",
    "    for data in trainloader:\n",
    "        i += 1\n",
    "        \n",
    "        mask_image, image = data    \n",
    "        optimizer.zero_grad()\n",
    "        mask_image , image = mask_image.to(device), image.to(device)\n",
    "        recon_batch, mu, log_sigma = vae(mask_image)\n",
    "        \n",
    "        loss = loss_function(recon_batch, image, mu, log_sigma)\n",
    "        \n",
    "        loss.backward()\n",
    "        optimizer.step()\n",
    "        if i % 60 == 0:\n",
    "            print(\"Epoch\", epoch, \"  Loss: \", loss.item() / len(trainloader))"
   ]
  },
  {
   "cell_type": "code",
   "execution_count": 17,
   "metadata": {},
   "outputs": [
    {
     "name": "stdout",
     "output_type": "stream",
     "text": [
      "Epoch 1   Loss:  27.650326538085938\n",
      "Epoch 1   Loss:  11.790724182128907\n",
      "Epoch 1   Loss:  11.394485473632812\n",
      "Epoch 1   Loss:  10.938352966308594\n",
      "Epoch 1   Loss:  9.736155700683593\n",
      "Epoch 2   Loss:  11.792096710205078\n",
      "Epoch 2   Loss:  10.078125762939454\n",
      "Epoch 2   Loss:  9.922389221191406\n",
      "Epoch 2   Loss:  9.30255126953125\n",
      "Epoch 2   Loss:  10.611493682861328\n",
      "Epoch 3   Loss:  10.022913360595703\n",
      "Epoch 3   Loss:  9.398201751708985\n",
      "Epoch 3   Loss:  10.488031005859375\n",
      "Epoch 3   Loss:  10.371340942382812\n",
      "Epoch 3   Loss:  9.203229522705078\n",
      "Epoch 4   Loss:  8.756415557861327\n",
      "Epoch 4   Loss:  11.231946563720703\n",
      "Epoch 4   Loss:  10.068511199951171\n",
      "Epoch 4   Loss:  10.399974060058593\n",
      "Epoch 4   Loss:  10.026555633544922\n",
      "Epoch 5   Loss:  10.474041748046876\n",
      "Epoch 5   Loss:  9.88537368774414\n",
      "Epoch 5   Loss:  10.027281188964844\n",
      "Epoch 5   Loss:  8.821106719970704\n",
      "Epoch 5   Loss:  8.9795166015625\n",
      "Epoch 6   Loss:  9.785758209228515\n",
      "Epoch 6   Loss:  9.633835601806641\n",
      "Epoch 6   Loss:  9.851482391357422\n",
      "Epoch 6   Loss:  9.036693572998047\n",
      "Epoch 6   Loss:  9.6923095703125\n",
      "Epoch 7   Loss:  9.538396453857422\n",
      "Epoch 7   Loss:  10.250675201416016\n",
      "Epoch 7   Loss:  9.91787338256836\n",
      "Epoch 7   Loss:  10.231699371337891\n",
      "Epoch 7   Loss:  10.1029052734375\n",
      "Epoch 8   Loss:  9.622820281982422\n",
      "Epoch 8   Loss:  8.818556976318359\n",
      "Epoch 8   Loss:  9.49918212890625\n",
      "Epoch 8   Loss:  9.150032806396485\n",
      "Epoch 8   Loss:  9.316996002197266\n",
      "Epoch 9   Loss:  9.652445983886718\n",
      "Epoch 9   Loss:  8.737844085693359\n",
      "Epoch 9   Loss:  9.94708251953125\n",
      "Epoch 9   Loss:  9.418894958496093\n",
      "Epoch 9   Loss:  9.62762908935547\n",
      "Epoch 10   Loss:  10.111849212646485\n",
      "Epoch 10   Loss:  9.022536468505859\n",
      "Epoch 10   Loss:  9.367874145507812\n",
      "Epoch 10   Loss:  9.39697723388672\n",
      "Epoch 10   Loss:  9.521925354003907\n",
      "Epoch 11   Loss:  9.439718627929688\n",
      "Epoch 11   Loss:  9.255838012695312\n",
      "Epoch 11   Loss:  10.569356536865234\n",
      "Epoch 11   Loss:  9.81484375\n",
      "Epoch 11   Loss:  10.428079223632812\n",
      "Epoch 12   Loss:  9.86849136352539\n",
      "Epoch 12   Loss:  9.855967712402343\n",
      "Epoch 12   Loss:  8.654630279541015\n",
      "Epoch 12   Loss:  10.373580932617188\n",
      "Epoch 12   Loss:  8.753755950927735\n",
      "Epoch 13   Loss:  9.20931396484375\n",
      "Epoch 13   Loss:  9.064535522460938\n",
      "Epoch 13   Loss:  9.34773941040039\n",
      "Epoch 13   Loss:  8.909535980224609\n",
      "Epoch 13   Loss:  10.869666290283202\n",
      "Epoch 14   Loss:  10.172679138183593\n",
      "Epoch 14   Loss:  10.956462860107422\n",
      "Epoch 14   Loss:  10.04278106689453\n",
      "Epoch 14   Loss:  9.715392303466796\n",
      "Epoch 14   Loss:  9.299605560302734\n",
      "Epoch 15   Loss:  9.540367889404298\n",
      "Epoch 15   Loss:  10.245124053955077\n",
      "Epoch 15   Loss:  9.88141326904297\n",
      "Epoch 15   Loss:  10.572380065917969\n",
      "Epoch 15   Loss:  9.810096740722656\n",
      "Epoch 16   Loss:  9.98870849609375\n",
      "Epoch 16   Loss:  8.920320892333985\n",
      "Epoch 16   Loss:  8.836082458496094\n",
      "Epoch 16   Loss:  8.669297790527343\n",
      "Epoch 16   Loss:  11.317305755615234\n",
      "Epoch 17   Loss:  9.885653686523437\n",
      "Epoch 17   Loss:  9.596194458007812\n",
      "Epoch 17   Loss:  9.453748321533203\n",
      "Epoch 17   Loss:  9.605819702148438\n",
      "Epoch 17   Loss:  9.428079223632812\n",
      "Epoch 18   Loss:  9.794689178466797\n",
      "Epoch 18   Loss:  9.339366149902343\n",
      "Epoch 18   Loss:  9.083711242675781\n",
      "Epoch 18   Loss:  9.874331665039062\n",
      "Epoch 18   Loss:  10.229473876953126\n",
      "Epoch 19   Loss:  9.732921600341797\n",
      "Epoch 19   Loss:  9.566424560546874\n",
      "Epoch 19   Loss:  9.453860473632812\n",
      "Epoch 19   Loss:  9.94274444580078\n",
      "Epoch 19   Loss:  9.575669097900391\n"
     ]
    }
   ],
   "source": [
    "for epoch in range(1, 20):\n",
    "    train(epoch)"
   ]
  },
  {
   "cell_type": "code",
   "execution_count": 18,
   "metadata": {},
   "outputs": [],
   "source": [
    "def print_image(image, model, correct_image):\n",
    "    fig, (ax1, ax2, ax3) = plt.subplots(1, 3)\n",
    "    ax1.imshow(np.transpose(image.numpy(), (1, 2, 0)).astype('uint8'))\n",
    "    ax2.imshow(np.transpose(correct_image.numpy(), (1, 2, 0)).astype('uint8'))\n",
    "    image = torch.unsqueeze(image,0)\n",
    "    image = torch.tensor(image).float()\n",
    "    image = image.to(device)\n",
    "    output = model(image)[0]\n",
    "    output = torch.squeeze(output,0)\n",
    "    if device.type == 'cuda':\n",
    "        output = torch.Tensor.cpu(output).detach().numpy()\n",
    "    else:\n",
    "        output = output.detach().numpy()\n",
    "        \n",
    "\n",
    "    ax3.imshow(np.transpose(output, (1, 2, 0)).astype('uint8'))\n",
    "    plt.show()"
   ]
  },
  {
   "cell_type": "code",
   "execution_count": 23,
   "metadata": {},
   "outputs": [
    {
     "data": {
      "image/png": "[encoded data removed]",
      "text/plain": [
       "<Figure size 432x288 with 3 Axes>"
      ]
     },
     "metadata": {
      "needs_background": "light"
     },
     "output_type": "display_data"
    }
   ],
   "source": [
    "dataiter = iter(testloader)\n",
    "\n",
    "\n",
    "images, images2 = dataiter.next()\n",
    "print_image(images[0], model = vae, correct_image = images2[0])"
   ]
  },
  {
   "cell_type": "code",
   "execution_count": null,
   "metadata": {},
   "outputs": [],
   "source": []
  }
 ],
 "metadata": {
  "kernelspec": {
   "display_name": "Python 3 (ipykernel)",
   "language": "python",
   "name": "python3"
  },
  "language_info": {
   "codemirror_mode": {
    "name": "ipython",
    "version": 3
   },
   "file_extension": ".py",
   "mimetype": "text/x-python",
   "name": "python",
   "nbconvert_exporter": "python",
   "pygments_lexer": "ipython3",
   "version": "3.8.11"
  }
 },
 "nbformat": 4,
 "nbformat_minor": 4
}
