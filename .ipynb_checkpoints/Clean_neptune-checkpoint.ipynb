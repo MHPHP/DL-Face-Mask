{
 "cells": [
  {
   "cell_type": "markdown",
   "id": "785b7d8c",
   "metadata": {},
   "source": [
    "## A more clean notebook"
   ]
  },
  {
   "cell_type": "code",
   "execution_count": 1,
   "id": "4805c6fa",
   "metadata": {},
   "outputs": [],
   "source": [
    "# Load all packages\n",
    "import torch\n",
    "import torchvision\n",
    "import torchvision.transforms as transforms\n",
    "import os\n",
    "import numpy as np\n",
    "     \n",
    "from torchvision.io import read_image\n",
    "from torch.utils.data import Dataset\n",
    "from torchvision import datasets\n",
    "from torchvision.transforms import ToTensor\n",
    "import matplotlib.pyplot as plt\n",
    "import matplotlib\n",
    "from torch import nn\n",
    "import neptune.new as neptune"
   ]
  },
  {
   "cell_type": "markdown",
   "id": "52ef0f39",
   "metadata": {},
   "source": [
    "### Start the neptune run"
   ]
  },
  {
   "cell_type": "code",
   "execution_count": 5,
   "id": "9608fd0f",
   "metadata": {
    "scrolled": false
   },
   "outputs": [
    {
     "name": "stdout",
     "output_type": "stream",
     "text": [
      "https://app.neptune.ai/Facemask-project/Facemask/e/FAC-13\n",
      "Remember to stop your run once you’ve finished logging your metadata (https://docs.neptune.ai/api-reference/run#stop). It will be stopped automatically only when the notebook kernel/interactive console is terminated.\n"
     ]
    }
   ],
   "source": [
    "# Get the APi key, from outside the git folder.\n",
    "file = open(\"../API-key.txt\", \"r\")\n",
    "key = file.readlines()\n",
    "\n",
    "run = neptune.init(\n",
    "    project=\"Facemask-project/Facemask\",\n",
    "    api_token=key[0])\n",
    "\n",
    "# Choose the device:\n",
    "device = torch.device(\"cuda\") if torch.cuda.is_available() else torch.device(\"cpu\")"
   ]
  },
  {
   "cell_type": "markdown",
   "id": "f31f3c32",
   "metadata": {},
   "source": [
    "## Create the dataloader\n",
    "\n",
    "This Dataloader is using read_image, which is not the fastest way to load files. It might be better to use the cv2 library."
   ]
  },
  {
   "cell_type": "code",
   "execution_count": 2,
   "id": "8f62aa4e",
   "metadata": {},
   "outputs": [],
   "source": [
    "\n",
    "#Create the data loader. This data\n",
    "class DataLoader(Dataset):\n",
    "    def __init__(self, img_dir, img_dir2, transform = None, target_transform=None):\n",
    "        self.img_dir = img_dir\n",
    "        self.img_dir2 = img_dir2\n",
    "        self.transform = transform\n",
    "        self.fileNames = os.listdir(img_dir)\n",
    "    def __len__(self):\n",
    "        return len(os.listdir(self.img_dir))\n",
    "\n",
    "    def __getitem__(self, idx):\n",
    "        label = self.fileNames[idx].rsplit(\"t-mask-\", 1 )[1]\n",
    "        img_path = os.path.join(self.img_dir, self.fileNames[idx])\n",
    "        img_path2 = os.path.join(self.img_dir2, label)\n",
    "        image = read_image(img_path)\n",
    "        image2 = read_image(img_path2)\n",
    "        image = image.clone().detach().float()\n",
    "        image2 = image2.clone().detach().float()\n",
    "        if self.transform:\n",
    "            image = self.transform(image)\n",
    "            image2 = self.transform(image2)\n",
    "        return image, image2"
   ]
  },
  {
   "cell_type": "markdown",
   "id": "ba0c565d",
   "metadata": {},
   "source": [
    "## Set up the dataLoader"
   ]
  },
  {
   "cell_type": "code",
   "execution_count": 3,
   "id": "c4c113b6",
   "metadata": {},
   "outputs": [],
   "source": [
    "#Choose batch_size:\n",
    "batch_size = 50\n",
    "\n",
    "#create transformer with mean = 0 and std = 1.\n",
    "transformer=transforms.Compose([ transforms.Normalize((0, 0, 0), (1, 1, 1)),])\n",
    "\n",
    "#Create the dataset with the dataloader:\n",
    "dataset = DataLoader(\"Data_small/50_with_mask\", \"Data_small/50_without_mask\", transform = transformer) \n",
    "\n",
    "# split the dataset into test and train set.\n",
    "test_size = int(0.2 * len(dataset))\n",
    "train_size = len(dataset) - test_size\n",
    "test_train_split = [test_size, train_size]\n",
    "testdata, traindata = torch.utils.data.random_split(dataset = dataset, lengths = test_train_split)\n",
    "\n",
    "# Set up dataloader and the test\n",
    "trainloader = torch.utils.data.DataLoader(traindata, \n",
    "                                          batch_size=batch_size, \n",
    "                                          shuffle=True, \n",
    "                                          num_workers=0,\n",
    "                                          pin_memory=True)\n",
    "testloader = torch.utils.data.DataLoader(testdata, \n",
    "                                          batch_size=1, \n",
    "                                          shuffle=True, \n",
    "                                          num_workers=0,\n",
    "                                          pin_memory=True)\n",
    "dataiter = iter(trainloader)\n"
   ]
  },
  {
   "cell_type": "markdown",
   "id": "657a93ce",
   "metadata": {},
   "source": [
    "## Set up the network"
   ]
  },
  {
   "cell_type": "code",
   "execution_count": null,
   "id": "866a20e9",
   "metadata": {},
   "outputs": [],
   "source": []
  },
  {
   "cell_type": "code",
   "execution_count": 6,
   "id": "415858f1",
   "metadata": {
    "scrolled": false
   },
   "outputs": [
    {
     "data": {
      "text/plain": [
       "ConvAutoencoder(\n",
       "  (flatten): Flatten(start_dim=1, end_dim=-1)\n",
       "  (linear1): Linear(in_features=4608, out_features=5000, bias=True)\n",
       "  (linear2): Linear(in_features=5000, out_features=4050, bias=True)\n",
       "  (unflatten): Unflatten(dim=1, unflattened_size=(18, 15, 15))\n",
       "  (conv1): Conv2d(3, 8, kernel_size=(3, 3), stride=(1, 1), padding=(1, 1))\n",
       "  (conv11): Conv2d(8, 16, kernel_size=(3, 3), stride=(1, 1), padding=(1, 1))\n",
       "  (conv2): Conv2d(16, 32, kernel_size=(5, 5), stride=(1, 1), padding=(2, 2))\n",
       "  (conv3): Conv2d(32, 50, kernel_size=(7, 7), stride=(1, 1), padding=(3, 3))\n",
       "  (conv4): Conv2d(50, 60, kernel_size=(5, 5), stride=(1, 1), padding=(2, 2))\n",
       "  (conv5): Conv2d(60, 40, kernel_size=(3, 3), stride=(1, 1), padding=(1, 1))\n",
       "  (conv6): Conv2d(40, 32, kernel_size=(3, 3), stride=(1, 1), padding=(1, 1))\n",
       "  (pool): MaxPool2d(kernel_size=2, stride=2, padding=0, dilation=1, ceil_mode=False)\n",
       "  (t_conv1): ConvTranspose2d(18, 32, kernel_size=(3, 3), stride=(1, 1), padding=(2, 2))\n",
       "  (t_conv2): ConvTranspose2d(32, 64, kernel_size=(2, 2), stride=(2, 2), padding=(1, 1), output_padding=(1, 1))\n",
       "  (t_conv3): ConvTranspose2d(64, 24, kernel_size=(2, 2), stride=(2, 2))\n",
       "  (t_conv4): ConvTranspose2d(24, 12, kernel_size=(3, 3), stride=(1, 1), padding=(1, 1))\n",
       "  (t_conv5): ConvTranspose2d(12, 3, kernel_size=(3, 3), stride=(1, 1), padding=(1, 1))\n",
       ")"
      ]
     },
     "execution_count": 6,
     "metadata": {},
     "output_type": "execute_result"
    }
   ],
   "source": [
    "# with auto encoder:\n",
    "\n",
    "import torch.nn.functional as F\n",
    "class ConvAutoencoder(nn.Module):\n",
    "    def __init__(self):\n",
    "        super(ConvAutoencoder, self).__init__()\n",
    "           \n",
    "        self.flatten = nn.Flatten()\n",
    "        self.linear1 = nn.Linear(4608,5000)\n",
    "        self.linear2 = nn.Linear(5000,4050)\n",
    "\n",
    "        \n",
    "        self.unflatten = nn.Unflatten(dim =1, unflattened_size = (18,15,15))\n",
    "        #Encoder\n",
    "        self.conv1 = nn.Conv2d(3, 8, 3, padding=1)\n",
    "        self.conv11 = nn.Conv2d(8, 16, 3, padding=1) \n",
    "        self.conv2 = nn.Conv2d(16, 32, 5, padding=2)\n",
    "        self.conv3 = nn.Conv2d(32, 50, 7, padding=3)\n",
    "        self.conv4 = nn.Conv2d(50, 60, 5, padding=2)\n",
    "        self.conv5 = nn.Conv2d(60, 40, 3, padding=1)\n",
    "        self.conv6 = nn.Conv2d(40, 32, 3, padding=1)\n",
    "       \n",
    "        self.pool = nn.MaxPool2d(2, 2)\n",
    "        \n",
    "        #Decoder\n",
    "        self.t_conv1 = nn.ConvTranspose2d(18, 32, 3, stride=1, dilation = 1, padding = 2)\n",
    "        self.t_conv2 = nn.ConvTranspose2d(32, 64, 2, stride=2, dilation = 1, padding = 1, output_padding = 1)\n",
    "        self.t_conv3 = nn.ConvTranspose2d(64, 24 , 2, stride = 2, dilation = 1, padding = 0)\n",
    "        self.t_conv4 = nn.ConvTranspose2d(24, 12, 3, stride=1, dilation = 1, padding = 1)\n",
    "        self.t_conv5 = nn.ConvTranspose2d(12, 3, 3, stride=1, dilation =1 , padding = 1 )\n",
    "    \n",
    "    def encode(self, x):\n",
    "        x = F.relu(self.conv1(x))\n",
    "        x = F.relu(self.conv11(x))\n",
    "        x = F.relu(self.conv2(x))\n",
    "        x = self.pool(x)\n",
    "        x = F.relu(self.conv3(x))\n",
    "        x = F.relu(self.conv4(x))\n",
    "        x = F.relu(self.conv5(x))\n",
    "        x = self.pool(x)\n",
    "        x = F.relu(self.conv6(x))\n",
    "        return x\n",
    "    \n",
    "    def flatlayer(self, x):\n",
    "        x = self.flatten(x)\n",
    "        x = self.linear1(x)\n",
    "        x = F.relu(x)\n",
    "        x = self.linear2(x)\n",
    "        x = F.relu(x)\n",
    "        return x\n",
    "    \n",
    "    def decode(self, x):\n",
    "        x = self.unflatten(x)\n",
    "        x = F.relu(self.t_conv1(x))\n",
    "        x = F.relu(self.t_conv2(x))\n",
    "        x = F.relu(self.t_conv3(x))\n",
    "        x = F.relu(self.t_conv4(x))\n",
    "        x = F.relu(self.t_conv5(x))\n",
    "        return x\n",
    "        \n",
    "    def forward(self, x):\n",
    "        x = self.encode(x)\n",
    "        x = self.flatlayer(x)\n",
    "        x = self.decode(x)      \n",
    "        return x\n",
    "\n",
    "\n",
    "#Instantiate the model\n",
    "model = ConvAutoencoder()\n",
    "\n",
    "#Send the model to the device\n",
    "model.to(device)\n"
   ]
  },
  {
   "cell_type": "code",
   "execution_count": 7,
   "id": "1e2603d5",
   "metadata": {},
   "outputs": [
    {
     "data": {
      "text/plain": [
       "torch.Size([50, 3, 50, 50])"
      ]
     },
     "execution_count": 7,
     "metadata": {},
     "output_type": "execute_result"
    }
   ],
   "source": [
    "model(dataiter.next()[0].to(device)).size()"
   ]
  },
  {
   "cell_type": "code",
   "execution_count": 118,
   "id": "9757c576",
   "metadata": {},
   "outputs": [],
   "source": [
    "import gc\n",
    "\n",
    "gc.collect()\n",
    "\n",
    "torch.cuda.empty_cache()"
   ]
  },
  {
   "cell_type": "markdown",
   "id": "3ddd3fbb",
   "metadata": {},
   "source": [
    "### Set up the neptune parameters"
   ]
  },
  {
   "cell_type": "code",
   "execution_count": 8,
   "id": "bf7a3f25",
   "metadata": {},
   "outputs": [],
   "source": [
    "learning_rate = 0.001\n",
    "#Loss function\n",
    "criterion = torch.nn.MSELoss()\n",
    "\n",
    "#Optimizer\n",
    "\n",
    "optimizer = torch.optim.Adam(model.parameters(), lr=learning_rate)\n",
    "\n",
    "def update_params():\n",
    "    run[\"parameters\"] = {\"lr\": learning_rate,\n",
    "                         \"optim\": str(optimizer).split(\" \")[0],\n",
    "                         \"loss_function\" : str(criterion),\n",
    "                         \"Batch_size\": batch_size\n",
    "                        }\n",
    "update_params()"
   ]
  },
  {
   "cell_type": "markdown",
   "id": "951e7ea2",
   "metadata": {},
   "source": [
    "### Create the training function"
   ]
  },
  {
   "cell_type": "code",
   "execution_count": 25,
   "id": "fb10431f",
   "metadata": {},
   "outputs": [],
   "source": [
    "#Epochs\n",
    "def train(model, n_epochs = 10, criterion = criterion, optimizer = optimizer, trainloader = trainloader):\n",
    "    for epoch in range(1, n_epochs+1):\n",
    "        # monitor training loss\n",
    "        train_loss = 0.0\n",
    "\n",
    "        #Training\n",
    "        for data in trainloader:\n",
    "            mask_image, image = data\n",
    "            mask_image , image = mask_image.to(device), image.to(device)\n",
    "            image = image.clone().detach().float()\n",
    "            mask_image = mask_image.clone().detach().float()\n",
    "            optimizer.zero_grad()\n",
    "            outputs = model(mask_image)\n",
    "            loss = criterion(outputs, image)\n",
    "            loss.backward()\n",
    "            optimizer.step()\n",
    "        if (epoch % 1 == 0):\n",
    "            train_loss += loss.item()\n",
    "            print('Epoch: {} \\tTraining Loss: {:.6f}'.format(epoch, train_loss))\n",
    "            run[\"train/loss\"].log(train_loss)\n",
    "        if (epoch % 50 ==0):\n",
    "            checpoint_name = \"checkpoint\" + str(epoch)\n",
    "            save_checkpoint(model, checpoint_name)\n",
    "           "
   ]
  },
  {
   "cell_type": "markdown",
   "id": "d4b84d99",
   "metadata": {},
   "source": [
    "### Train the model"
   ]
  },
  {
   "cell_type": "code",
   "execution_count": 26,
   "id": "56ce3b04",
   "metadata": {},
   "outputs": [
    {
     "name": "stdout",
     "output_type": "stream",
     "text": [
      "Epoch: 1 \tTraining Loss: 311.908661\n",
      "Epoch: 2 \tTraining Loss: 333.555389\n",
      "Epoch: 3 \tTraining Loss: 326.228271\n",
      "Epoch: 4 \tTraining Loss: 351.614685\n",
      "Epoch: 5 \tTraining Loss: 317.813629\n",
      "Epoch: 6 \tTraining Loss: 338.967377\n",
      "Epoch: 7 \tTraining Loss: 295.807831\n",
      "Epoch: 8 \tTraining Loss: 311.339935\n",
      "Epoch: 9 \tTraining Loss: 328.696625\n",
      "Epoch: 10 \tTraining Loss: 331.878387\n",
      "Epoch: 11 \tTraining Loss: 297.118286\n",
      "Epoch: 12 \tTraining Loss: 318.755249\n",
      "Epoch: 13 \tTraining Loss: 303.621063\n",
      "Epoch: 14 \tTraining Loss: 306.832611\n",
      "Epoch: 15 \tTraining Loss: 315.052979\n",
      "Epoch: 16 \tTraining Loss: 287.039917\n",
      "Epoch: 17 \tTraining Loss: 334.005585\n",
      "Epoch: 18 \tTraining Loss: 271.426392\n",
      "Epoch: 19 \tTraining Loss: 282.291534\n",
      "Epoch: 20 \tTraining Loss: 280.717834\n",
      "Epoch: 21 \tTraining Loss: 282.676270\n",
      "Epoch: 22 \tTraining Loss: 304.999725\n",
      "Epoch: 23 \tTraining Loss: 289.613647\n",
      "Epoch: 24 \tTraining Loss: 272.724579\n",
      "Epoch: 25 \tTraining Loss: 272.934479\n",
      "Epoch: 26 \tTraining Loss: 270.368073\n",
      "Epoch: 27 \tTraining Loss: 271.374329\n",
      "Epoch: 28 \tTraining Loss: 269.725800\n",
      "Epoch: 29 \tTraining Loss: 264.119110\n",
      "Epoch: 30 \tTraining Loss: 288.908600\n",
      "Epoch: 31 \tTraining Loss: 270.733307\n",
      "Epoch: 32 \tTraining Loss: 266.015778\n",
      "Epoch: 33 \tTraining Loss: 235.348145\n",
      "Epoch: 34 \tTraining Loss: 267.164856\n",
      "Epoch: 35 \tTraining Loss: 283.725922\n",
      "Epoch: 36 \tTraining Loss: 260.755127\n",
      "Epoch: 37 \tTraining Loss: 239.844666\n",
      "Epoch: 38 \tTraining Loss: 291.269501\n",
      "Epoch: 39 \tTraining Loss: 235.276230\n",
      "Epoch: 40 \tTraining Loss: 279.820984\n",
      "Epoch: 41 \tTraining Loss: 274.144592\n",
      "Epoch: 42 \tTraining Loss: 255.861038\n",
      "Epoch: 43 \tTraining Loss: 253.442642\n",
      "Epoch: 44 \tTraining Loss: 261.967621\n",
      "Epoch: 45 \tTraining Loss: 255.185577\n",
      "Epoch: 46 \tTraining Loss: 250.436523\n",
      "Epoch: 47 \tTraining Loss: 247.654358\n",
      "Epoch: 48 \tTraining Loss: 252.608582\n",
      "Epoch: 49 \tTraining Loss: 245.201111\n"
     ]
    }
   ],
   "source": [
    "train(model, n_epochs = 49)"
   ]
  },
  {
   "cell_type": "markdown",
   "id": "f32f618c",
   "metadata": {},
   "source": [
    "### function to print images:"
   ]
  },
  {
   "cell_type": "code",
   "execution_count": 27,
   "id": "e6eefbea",
   "metadata": {},
   "outputs": [],
   "source": [
    "def print_image(image, model, correct_image):\n",
    "    fig, (ax1, ax2, ax3) = plt.subplots(1, 3)\n",
    "    ax1.imshow(np.transpose(image.numpy(), (1, 2, 0)).astype('uint8'))\n",
    "    ax2.imshow(np.transpose(correct_image.numpy(), (1, 2, 0)).astype('uint8'))\n",
    "    image = torch.unsqueeze(image,0)\n",
    "    image = image.clone().detach().float()\n",
    "    image = image.to(device)\n",
    "    output = model(image)\n",
    "    output = torch.squeeze(output,0)\n",
    "    if device.type == 'cuda':\n",
    "        output = torch.Tensor.cpu(output).clone().detach().numpy()\n",
    "    else:\n",
    "        output = output.clone().detach().numpy()\n",
    "        \n",
    "\n",
    "    ax3.imshow(np.transpose(output, (1, 2, 0)).astype('uint8'))\n",
    "    plt.show()"
   ]
  },
  {
   "cell_type": "code",
   "execution_count": 28,
   "id": "645c6cea",
   "metadata": {},
   "outputs": [],
   "source": [
    "dataiter = iter(testloader)"
   ]
  },
  {
   "cell_type": "code",
   "execution_count": 40,
   "id": "f0715077",
   "metadata": {
    "scrolled": false
   },
   "outputs": [
    {
     "data": {
      "image/png": "[encoded data removed]",
      "text/plain": [
       "<Figure size 432x288 with 3 Axes>"
      ]
     },
     "metadata": {
      "needs_background": "light"
     },
     "output_type": "display_data"
    }
   ],
   "source": [
    "#Test a Model\n",
    "\n",
    "images, images2 = dataiter.next()\n",
    "#print_image(images[0], model = model2, correct_image = images2[0])\n",
    "print_image(images[0], model = model, correct_image = images2[0])"
   ]
  },
  {
   "cell_type": "code",
   "execution_count": 23,
   "id": "636aae27",
   "metadata": {},
   "outputs": [],
   "source": [
    "#Save the model as a artifact\n",
    "def save_checkpoint(model, checkpoint_name):\n",
    "    checkpoint_name_ext = checkpoint_name + \".pt\"\n",
    "    checkpoints = os.listdir(\"Checkpoints\")\n",
    "    path = os.path.join(\"Checkpoints\", checkpoint_name_ext)\n",
    "    try_number = 0\n",
    "    while (os.path.exists(path)):\n",
    "        try_number += 1\n",
    "        checkpoint_name_ext = checkpoint_name + \"_\" + str(try_number) + \".pt\"\n",
    "        path = os.path.join(\"Checkpoints\", checkpoint_name_ext)\n",
    "    torch.save(model, path)\n",
    "    neptune_checkpoint_path = 'model_checkpoints/' + checkpoint_name + \"_\" + str(try_number)\n",
    "    run[neptune_checkpoint_path].upload(path)"
   ]
  },
  {
   "cell_type": "code",
   "execution_count": 41,
   "id": "b1a76d2c",
   "metadata": {},
   "outputs": [],
   "source": [
    "save_checkpoint(model,\"size_50_new_model_epoch_200\")"
   ]
  },
  {
   "cell_type": "code",
   "execution_count": 7,
   "id": "2662a26e",
   "metadata": {},
   "outputs": [],
   "source": [
    "model = torch.load(\"Checkpoints/size_50_spohcs_300.pt\")"
   ]
  },
  {
   "cell_type": "code",
   "execution_count": 8,
   "id": "19a31e40",
   "metadata": {
    "scrolled": false
   },
   "outputs": [
    {
     "name": "stdout",
     "output_type": "stream",
     "text": [
      "ConvAutoencoder(\n",
      "  (flatten): Flatten(start_dim=1, end_dim=-1)\n",
      "  (linear1): Linear(in_features=1728, out_features=2500, bias=True)\n",
      "  (linear2): Linear(in_features=2500, out_features=1600, bias=True)\n",
      "  (linear3): Linear(in_features=1600, out_features=1200, bias=True)\n",
      "  (unflatten): Unflatten(dim=1, unflattened_size=(12, 10, 10))\n",
      "  (conv1): Conv2d(3, 16, kernel_size=(3, 3), stride=(1, 1), padding=(1, 1))\n",
      "  (conv2): Conv2d(16, 32, kernel_size=(3, 3), stride=(1, 1), padding=(1, 1))\n",
      "  (conv3): Conv2d(32, 44, kernel_size=(3, 3), stride=(1, 1), padding=(1, 1))\n",
      "  (conv4): Conv2d(44, 32, kernel_size=(3, 3), stride=(1, 1), padding=(1, 1))\n",
      "  (conv5): Conv2d(32, 16, kernel_size=(3, 3), stride=(1, 1), padding=(1, 1))\n",
      "  (conv6): Conv2d(16, 12, kernel_size=(3, 3), stride=(1, 1), padding=(1, 1))\n",
      "  (pool): MaxPool2d(kernel_size=2, stride=2, padding=0, dilation=1, ceil_mode=False)\n",
      "  (t_conv1): ConvTranspose2d(12, 16, kernel_size=(3, 3), stride=(3, 3), padding=(2, 2))\n",
      "  (t_conv2): ConvTranspose2d(16, 32, kernel_size=(3, 3), stride=(2, 2), padding=(2, 2))\n",
      "  (t_conv3): ConvTranspose2d(32, 16, kernel_size=(3, 3), stride=(1, 1), padding=(1, 1))\n",
      "  (t_conv4): ConvTranspose2d(16, 8, kernel_size=(2, 2), stride=(1, 1))\n",
      "  (t_conv5): ConvTranspose2d(8, 3, kernel_size=(3, 3), stride=(1, 1), padding=(1, 1))\n",
      ")\n"
     ]
    }
   ],
   "source": [
    "print(model)"
   ]
  },
  {
   "cell_type": "code",
   "execution_count": null,
   "id": "a729b815",
   "metadata": {},
   "outputs": [],
   "source": []
  },
  {
   "cell_type": "code",
   "execution_count": 5,
   "id": "d71181d4",
   "metadata": {},
   "outputs": [],
   "source": [
    "class ConvAutoencoder(nn.Module):\n",
    "    def __init__(self):\n",
    "        super(ConvAutoencoder, self).__init__()"
   ]
  },
  {
   "cell_type": "markdown",
   "id": "517b0cc4",
   "metadata": {},
   "source": [
    "### Stop the run"
   ]
  },
  {
   "cell_type": "code",
   "execution_count": 42,
   "id": "58ada837",
   "metadata": {},
   "outputs": [
    {
     "name": "stdout",
     "output_type": "stream",
     "text": [
      "Shutting down background jobs, please wait a moment...\n",
      "Done!\n"
     ]
    },
    {
     "name": "stderr",
     "output_type": "stream",
     "text": [
      "Waiting for the remaining 4 operations to synchronize with Neptune. Do not kill this process.\n"
     ]
    },
    {
     "name": "stdout",
     "output_type": "stream",
     "text": [
      "All 4 operations synced, thanks for waiting!\n"
     ]
    }
   ],
   "source": [
    "run.stop()"
   ]
  },
  {
   "cell_type": "markdown",
   "id": "73c71873",
   "metadata": {},
   "source": [
    "## check speed of code:"
   ]
  },
  {
   "cell_type": "code",
   "execution_count": null,
   "id": "fbf859f2",
   "metadata": {},
   "outputs": [],
   "source": [
    "#%load_ext line_profiler"
   ]
  },
  {
   "cell_type": "code",
   "execution_count": 50,
   "id": "9675dc62",
   "metadata": {
    "scrolled": true
   },
   "outputs": [
    {
     "name": "stdout",
     "output_type": "stream",
     "text": [
      "The line_profiler extension is already loaded. To reload it, use:\n",
      "  %reload_ext line_profiler\n",
      "Epoch: 1 \tTraining Loss: 432.126851\n"
     ]
    }
   ],
   "source": [
    "#%lprun -f train train(model, n_epochs = 1)"
   ]
  }
 ],
 "metadata": {
  "kernelspec": {
   "display_name": "Python 3 (ipykernel)",
   "language": "python",
   "name": "python3"
  },
  "language_info": {
   "codemirror_mode": {
    "name": "ipython",
    "version": 3
   },
   "file_extension": ".py",
   "mimetype": "text/x-python",
   "name": "python",
   "nbconvert_exporter": "python",
   "pygments_lexer": "ipython3",
   "version": "3.8.11"
  },
  "neptune": {
   "notebookId": "9b2d4ae3-0121-433b-b63a-42c0c389e75b",
   "projectVersion": 2
  }
 },
 "nbformat": 4,
 "nbformat_minor": 5
}
