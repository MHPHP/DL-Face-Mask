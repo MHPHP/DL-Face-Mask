{
 "cells": [
  {
   "cell_type": "code",
   "execution_count": 1,
   "id": "902d0d4c",
   "metadata": {},
   "outputs": [],
   "source": [
    "import pandas as pd\n",
    "import os\n",
    "from PIL import Image"
   ]
  },
  {
   "cell_type": "code",
   "execution_count": 2,
   "id": "f24b0e85",
   "metadata": {},
   "outputs": [
    {
     "ename": "SyntaxError",
     "evalue": "invalid syntax (Temp/ipykernel_17748/4127846065.py, line 3)",
     "output_type": "error",
     "traceback": [
      "\u001b[1;36m  File \u001b[1;32m\"C:\\Users\\malth\\AppData\\Local\\Temp/ipykernel_17748/4127846065.py\"\u001b[1;36m, line \u001b[1;32m3\u001b[0m\n\u001b[1;33m    def load_resize_save()\u001b[0m\n\u001b[1;37m                          ^\u001b[0m\n\u001b[1;31mSyntaxError\u001b[0m\u001b[1;31m:\u001b[0m invalid syntax\n"
     ]
    }
   ],
   "source": [
    "# Resize the image to (50,50) and save them\n",
    "\n",
    "def load_resize_save()\n",
    "\"with-mask-default-mask-seed0000\""
   ]
  },
  {
   "cell_type": "code",
   "execution_count": null,
   "id": "b40089dc",
   "metadata": {},
   "outputs": [],
   "source": []
  },
  {
   "cell_type": "code",
   "execution_count": 3,
   "id": "8086b26f",
   "metadata": {},
   "outputs": [
    {
     "ename": "SyntaxError",
     "evalue": "invalid syntax (Temp/ipykernel_17748/1954305212.py, line 3)",
     "output_type": "error",
     "traceback": [
      "\u001b[1;36m  File \u001b[1;32m\"C:\\Users\\malth\\AppData\\Local\\Temp/ipykernel_17748/1954305212.py\"\u001b[1;36m, line \u001b[1;32m3\u001b[0m\n\u001b[1;33m    path2 = \"seed\" str(seed).zfill(4)\u001b[0m\n\u001b[1;37m                   ^\u001b[0m\n\u001b[1;31mSyntaxError\u001b[0m\u001b[1;31m:\u001b[0m invalid syntax\n"
     ]
    }
   ],
   "source": [
    "seed = 1\n",
    "path1 = \"../Data/with-mask-default-mask-seed\" + str(seed).zfill(4) + \"png\"\n",
    "path2 = \"seed\" str(seed).zfill(4)\n",
    "print(path)"
   ]
  },
  {
   "cell_type": "code",
   "execution_count": 9,
   "id": "35a07df8",
   "metadata": {},
   "outputs": [],
   "source": [
    "def load_resize_save(img_dir, new_dir, new_size = (125,125), range_from = 0, range_to = 1000):\n",
    "    filenames = os.listdir(img_dir)\n",
    "    filenames2 = os.listdir(new_dir)\n",
    "    for i in range(range_from, range_to):\n",
    "        if (filenames[i] not in filenames2):   \n",
    "            load_path = os.path.join(img_dir, filenames[i])\n",
    "            save_path = os.path.join(new_dir, filenames[i])\n",
    "            img = Image.open(load_path)\n",
    "            resized_img = img.resize(new_size)\n",
    "            resized_img.save(save_path)"
   ]
  },
  {
   "cell_type": "code",
   "execution_count": 12,
   "id": "e7dcb960",
   "metadata": {
    "scrolled": true
   },
   "outputs": [],
   "source": [
    "load_resize_save(\"../Data/with_mask\", new_dir = \"Data_small/125_with_mask_test\", range_from = 9000, range_to = 9800)"
   ]
  },
  {
   "cell_type": "code",
   "execution_count": 13,
   "id": "f039969e",
   "metadata": {},
   "outputs": [],
   "source": [
    "load_resize_save(\"../Data/without_mask\", new_dir = \"Data_small/125_without_mask_test\", range_from = 9000, range_to = 9800)"
   ]
  }
 ],
 "metadata": {
  "kernelspec": {
   "display_name": "Python 3 (ipykernel)",
   "language": "python",
   "name": "python3"
  },
  "language_info": {
   "codemirror_mode": {
    "name": "ipython",
    "version": 3
   },
   "file_extension": ".py",
   "mimetype": "text/x-python",
   "name": "python",
   "nbconvert_exporter": "python",
   "pygments_lexer": "ipython3",
   "version": "3.8.11"
  }
 },
 "nbformat": 4,
 "nbformat_minor": 5
}
