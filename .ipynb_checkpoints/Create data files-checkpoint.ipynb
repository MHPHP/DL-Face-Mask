{
 "cells": [
  {
   "cell_type": "code",
   "execution_count": 12,
   "id": "6d9049da",
   "metadata": {},
   "outputs": [],
   "source": [
    "import pandas as pd\n",
    "import os\n",
    "from PIL import Image"
   ]
  },
  {
   "cell_type": "code",
   "execution_count": null,
   "id": "982417b1",
   "metadata": {},
   "outputs": [],
   "source": [
    "# Resize the image to (50,50) and save them\n",
    "\n",
    "def load_resize_save()\n",
    "\"with-mask-default-mask-seed0000\""
   ]
  },
  {
   "cell_type": "code",
   "execution_count": null,
   "id": "ae600ecb",
   "metadata": {},
   "outputs": [],
   "source": []
  },
  {
   "cell_type": "code",
   "execution_count": 6,
   "id": "dad90d2a",
   "metadata": {},
   "outputs": [
    {
     "name": "stdout",
     "output_type": "stream",
     "text": [
      "../Data/with-mask-default-mask-seed0001\n"
     ]
    }
   ],
   "source": [
    "seed = 1\n",
    "path1 = \"../Data/with-mask-default-mask-seed\" + str(seed).zfill(4) + \"png\"\n",
    "path2 = \"seed\" str(seed).zfill(4)\n",
    "print(path)"
   ]
  },
  {
   "cell_type": "code",
   "execution_count": 21,
   "id": "d36fdc53",
   "metadata": {},
   "outputs": [],
   "source": [
    "def load_resize_save(img_dir, new_dir, new_size = (50,50), range_from = 0, range_to = 1000):\n",
    "    filenames = os.listdir(img_dir)\n",
    "    filenames2 = os.listdir(new_dir)\n",
    "    for i in range(range_from, range_to):\n",
    "        if (filenames[i] not in filenames2):   \n",
    "            load_path = os.path.join(img_dir, filenames[i])\n",
    "            save_path = os.path.join(new_dir, filenames[i])\n",
    "            img = Image.open(load_path)\n",
    "            resized_img = img.resize(new_size)\n",
    "            resized_img.save(save_path)"
   ]
  },
  {
   "cell_type": "code",
   "execution_count": 31,
   "id": "719143d8",
   "metadata": {
    "scrolled": true
   },
   "outputs": [],
   "source": [
    "load_resize_save(\"../Data/with_mask\", new_dir = \"../Data/50_with_mask\", range_from = 5000, range_to = 10000)"
   ]
  },
  {
   "cell_type": "code",
   "execution_count": 32,
   "id": "69ab848b",
   "metadata": {},
   "outputs": [],
   "source": [
    "load_resize_save(\"../Data/without_mask\", new_dir = \"../Data/50_without_mask\", range_from = 5000, range_to = 10000)"
   ]
  }
 ],
 "metadata": {
  "kernelspec": {
   "display_name": "Python 3 (ipykernel)",
   "language": "python",
   "name": "python3"
  },
  "language_info": {
   "codemirror_mode": {
    "name": "ipython",
    "version": 3
   },
   "file_extension": ".py",
   "mimetype": "text/x-python",
   "name": "python",
   "nbconvert_exporter": "python",
   "pygments_lexer": "ipython3",
   "version": "3.8.11"
  }
 },
 "nbformat": 4,
 "nbformat_minor": 5
}
