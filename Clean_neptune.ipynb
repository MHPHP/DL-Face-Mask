{
 "cells": [
  {
   "cell_type": "markdown",
   "id": "785b7d8c",
   "metadata": {},
   "source": [
    "## A more clean notebook"
   ]
  },
  {
   "cell_type": "code",
   "execution_count": 11,
   "id": "4805c6fa",
   "metadata": {},
   "outputs": [],
   "source": [
    "# Load all packages\n",
    "import torch\n",
    "import torchvision\n",
    "import torchvision.transforms as transforms\n",
    "import os\n",
    "import numpy as np\n",
    "     \n",
    "from torchvision.io import read_image\n",
    "from torch.utils.data import Dataset\n",
    "from torchvision import datasets\n",
    "from torchvision.transforms import ToTensor\n",
    "import matplotlib.pyplot as plt\n",
    "import matplotlib\n",
    "from torch import nn\n",
    "import neptune.new as neptune\n",
    "import random"
   ]
  },
  {
   "cell_type": "markdown",
   "id": "52ef0f39",
   "metadata": {},
   "source": [
    "### Start the neptune run"
   ]
  },
  {
   "cell_type": "code",
   "execution_count": 2,
   "id": "9608fd0f",
   "metadata": {
    "scrolled": false
   },
   "outputs": [
    {
     "name": "stdout",
     "output_type": "stream",
     "text": [
      "https://app.neptune.ai/Facemask-project/Facemask/e/FAC-32\n",
      "Remember to stop your run once you’ve finished logging your metadata (https://docs.neptune.ai/api-reference/run#stop). It will be stopped automatically only when the notebook kernel/interactive console is terminated.\n"
     ]
    }
   ],
   "source": [
    "# Get the APi key, from outside the git folder.\n",
    "file = open(\"../API-key.txt\", \"r\")\n",
    "key = file.readlines()\n",
    "\n",
    "run = neptune.init(\n",
    "    project=\"Facemask-project/Facemask\",\n",
    "    api_token=key[0])\n",
    "\n",
    "# Choose the device:\n",
    "device = torch.device(\"cuda\") if torch.cuda.is_available() else torch.device(\"cpu\")"
   ]
  },
  {
   "cell_type": "code",
   "execution_count": 12,
   "id": "2fc61726",
   "metadata": {},
   "outputs": [],
   "source": [
    "run['namespace/Run_name'] = \"BCE_test\"\n",
    "run['sys/tags'].add(['size_50', \"BCE\"])"
   ]
  },
  {
   "cell_type": "markdown",
   "id": "f31f3c32",
   "metadata": {},
   "source": [
    "## Create the dataloader\n",
    "\n",
    "This Dataloader is using read_image, which is not the fastest way to load files. It might be better to use the cv2 library."
   ]
  },
  {
   "cell_type": "code",
   "execution_count": 13,
   "id": "8f62aa4e",
   "metadata": {},
   "outputs": [],
   "source": [
    "device = torch.device(\"cuda\") if torch.cuda.is_available() else torch.device(\"cpu\")\n",
    "\n",
    "#Create the data loader. This data\n",
    "class DataLoader():\n",
    "    def __init__(self, img_dir, img_dir2, transform = None, target_transform=None, transforms = None,\n",
    "                 random_perspective = None, flip = None):\n",
    "        self.img_dir = img_dir\n",
    "        self.img_dir2 = img_dir2\n",
    "        self.transform = transform\n",
    "        self.transforms = transforms\n",
    "        self.fileNames = os.listdir(img_dir)\n",
    "        self.random_perspective = random_perspective\n",
    "        self.flip = flip\n",
    "    def __len__(self):\n",
    "        return len(os.listdir(self.img_dir))\n",
    "\n",
    "    def __getitem__(self, idx):\n",
    "        label = self.fileNames[idx].rsplit(\"t-mask-\", 1 )[1]\n",
    "        img_path = os.path.join(self.img_dir, self.fileNames[idx])\n",
    "        img_path2 = os.path.join(self.img_dir2, label)\n",
    "        image = read_image(img_path)\n",
    "        target_image = read_image(img_path2)\n",
    "        image = image.clone().detach().float()\n",
    "        target_image = target_image.clone().detach().float()\n",
    "        if self.transforms:\n",
    "            image = self.transforms(image)\n",
    "            target_image = self.transforms(target_image)\n",
    "            \n",
    "        if self.random_perspective:\n",
    "            if random.uniform(0,1) > 0.5:\n",
    "                scale = random.uniform(0,0.3)\n",
    "                startpoints, endpoints = transforms.RandomPerspective().get_params(50,50, distortion_scale=scale)\n",
    "                image = torchvision.transforms.functional.perspective(image, startpoints, endpoints)\n",
    "                target_image  = torchvision.transforms.functional.perspective(target_image, startpoints, endpoints)\n",
    "        \n",
    "        return image, target_image"
   ]
  },
  {
   "cell_type": "markdown",
   "id": "ba0c565d",
   "metadata": {},
   "source": [
    "## Set up the dataLoader"
   ]
  },
  {
   "cell_type": "code",
   "execution_count": 27,
   "id": "c4c113b6",
   "metadata": {},
   "outputs": [],
   "source": [
    "#Choose batch_size:\n",
    "batch_size = 25\n",
    "\n",
    "#create transformer with mean = 0 and std = 1.\n",
    "transformer=transforms.Compose([ transforms.Normalize((0, 0, 0), (1, 1, 1))])\n",
    "\n",
    "#Create the dataset with the dataloader:\n",
    "dataset = DataLoader(\"Data_small/50_with_mask\", \"Data_small/50_without_mask\",\n",
    "                     transform = transformer,\n",
    "                    random_perspective = None,\n",
    "                    flip = False) \n",
    "\n",
    "# split the dataset into test and train set.\n",
    "test_size = int(0.2 * len(dataset))\n",
    "train_size = len(dataset) - test_size\n",
    "test_train_split = [test_size, train_size]\n",
    "testdata, traindata = torch.utils.data.random_split(dataset = dataset, lengths = test_train_split)\n",
    "\n",
    "# Set up dataloader and the test\n",
    "trainloader = torch.utils.data.DataLoader(traindata, \n",
    "                                          batch_size=batch_size, \n",
    "                                          shuffle=True, \n",
    "                                          num_workers=0,\n",
    "                                          pin_memory=True)\n",
    "testloader = torch.utils.data.DataLoader(testdata, \n",
    "                                          batch_size=1, \n",
    "                                          shuffle=True, \n",
    "                                          num_workers=0,\n",
    "                                          pin_memory=True)\n",
    "dataiter = iter(trainloader)\n"
   ]
  },
  {
   "cell_type": "markdown",
   "id": "657a93ce",
   "metadata": {},
   "source": [
    "## Set up the network"
   ]
  },
  {
   "cell_type": "code",
   "execution_count": 17,
   "id": "415858f1",
   "metadata": {
    "scrolled": true
   },
   "outputs": [
    {
     "ename": "RuntimeError",
     "evalue": "CUDA error: device-side assert triggered\nCUDA kernel errors might be asynchronously reported at some other API call,so the stacktrace below might be incorrect.\nFor debugging consider passing CUDA_LAUNCH_BLOCKING=1.",
     "output_type": "error",
     "traceback": [
      "\u001b[1;31m---------------------------------------------------------------------------\u001b[0m",
      "\u001b[1;31mRuntimeError\u001b[0m                              Traceback (most recent call last)",
      "\u001b[1;32m~\\AppData\\Local\\Temp/ipykernel_15248/1380899789.py\u001b[0m in \u001b[0;36m<module>\u001b[1;34m\u001b[0m\n\u001b[0;32m     74\u001b[0m \u001b[1;33m\u001b[0m\u001b[0m\n\u001b[0;32m     75\u001b[0m \u001b[1;31m#Send the model to the device\u001b[0m\u001b[1;33m\u001b[0m\u001b[1;33m\u001b[0m\u001b[1;33m\u001b[0m\u001b[0m\n\u001b[1;32m---> 76\u001b[1;33m \u001b[0mmodel\u001b[0m\u001b[1;33m.\u001b[0m\u001b[0mto\u001b[0m\u001b[1;33m(\u001b[0m\u001b[0mdevice\u001b[0m\u001b[1;33m)\u001b[0m\u001b[1;33m\u001b[0m\u001b[1;33m\u001b[0m\u001b[0m\n\u001b[0m\u001b[0;32m     77\u001b[0m \u001b[1;31m# check the model output is the correct size\u001b[0m\u001b[1;33m\u001b[0m\u001b[1;33m\u001b[0m\u001b[1;33m\u001b[0m\u001b[0m\n\u001b[0;32m     78\u001b[0m \u001b[0mrun\u001b[0m\u001b[1;33m[\u001b[0m\u001b[1;34m\"model\"\u001b[0m\u001b[1;33m]\u001b[0m \u001b[1;33m=\u001b[0m \u001b[0mmodel\u001b[0m\u001b[1;33m\u001b[0m\u001b[1;33m\u001b[0m\u001b[0m\n",
      "\u001b[1;32m~\\Anaconda3\\envs\\DL1\\lib\\site-packages\\torch\\nn\\modules\\module.py\u001b[0m in \u001b[0;36mto\u001b[1;34m(self, *args, **kwargs)\u001b[0m\n\u001b[0;32m    850\u001b[0m             \u001b[1;32mreturn\u001b[0m \u001b[0mt\u001b[0m\u001b[1;33m.\u001b[0m\u001b[0mto\u001b[0m\u001b[1;33m(\u001b[0m\u001b[0mdevice\u001b[0m\u001b[1;33m,\u001b[0m \u001b[0mdtype\u001b[0m \u001b[1;32mif\u001b[0m \u001b[0mt\u001b[0m\u001b[1;33m.\u001b[0m\u001b[0mis_floating_point\u001b[0m\u001b[1;33m(\u001b[0m\u001b[1;33m)\u001b[0m \u001b[1;32mor\u001b[0m \u001b[0mt\u001b[0m\u001b[1;33m.\u001b[0m\u001b[0mis_complex\u001b[0m\u001b[1;33m(\u001b[0m\u001b[1;33m)\u001b[0m \u001b[1;32melse\u001b[0m \u001b[1;32mNone\u001b[0m\u001b[1;33m,\u001b[0m \u001b[0mnon_blocking\u001b[0m\u001b[1;33m)\u001b[0m\u001b[1;33m\u001b[0m\u001b[1;33m\u001b[0m\u001b[0m\n\u001b[0;32m    851\u001b[0m \u001b[1;33m\u001b[0m\u001b[0m\n\u001b[1;32m--> 852\u001b[1;33m         \u001b[1;32mreturn\u001b[0m \u001b[0mself\u001b[0m\u001b[1;33m.\u001b[0m\u001b[0m_apply\u001b[0m\u001b[1;33m(\u001b[0m\u001b[0mconvert\u001b[0m\u001b[1;33m)\u001b[0m\u001b[1;33m\u001b[0m\u001b[1;33m\u001b[0m\u001b[0m\n\u001b[0m\u001b[0;32m    853\u001b[0m \u001b[1;33m\u001b[0m\u001b[0m\n\u001b[0;32m    854\u001b[0m     def register_backward_hook(\n",
      "\u001b[1;32m~\\Anaconda3\\envs\\DL1\\lib\\site-packages\\torch\\nn\\modules\\module.py\u001b[0m in \u001b[0;36m_apply\u001b[1;34m(self, fn)\u001b[0m\n\u001b[0;32m    528\u001b[0m     \u001b[1;32mdef\u001b[0m \u001b[0m_apply\u001b[0m\u001b[1;33m(\u001b[0m\u001b[0mself\u001b[0m\u001b[1;33m,\u001b[0m \u001b[0mfn\u001b[0m\u001b[1;33m)\u001b[0m\u001b[1;33m:\u001b[0m\u001b[1;33m\u001b[0m\u001b[1;33m\u001b[0m\u001b[0m\n\u001b[0;32m    529\u001b[0m         \u001b[1;32mfor\u001b[0m \u001b[0mmodule\u001b[0m \u001b[1;32min\u001b[0m \u001b[0mself\u001b[0m\u001b[1;33m.\u001b[0m\u001b[0mchildren\u001b[0m\u001b[1;33m(\u001b[0m\u001b[1;33m)\u001b[0m\u001b[1;33m:\u001b[0m\u001b[1;33m\u001b[0m\u001b[1;33m\u001b[0m\u001b[0m\n\u001b[1;32m--> 530\u001b[1;33m             \u001b[0mmodule\u001b[0m\u001b[1;33m.\u001b[0m\u001b[0m_apply\u001b[0m\u001b[1;33m(\u001b[0m\u001b[0mfn\u001b[0m\u001b[1;33m)\u001b[0m\u001b[1;33m\u001b[0m\u001b[1;33m\u001b[0m\u001b[0m\n\u001b[0m\u001b[0;32m    531\u001b[0m \u001b[1;33m\u001b[0m\u001b[0m\n\u001b[0;32m    532\u001b[0m         \u001b[1;32mdef\u001b[0m \u001b[0mcompute_should_use_set_data\u001b[0m\u001b[1;33m(\u001b[0m\u001b[0mtensor\u001b[0m\u001b[1;33m,\u001b[0m \u001b[0mtensor_applied\u001b[0m\u001b[1;33m)\u001b[0m\u001b[1;33m:\u001b[0m\u001b[1;33m\u001b[0m\u001b[1;33m\u001b[0m\u001b[0m\n",
      "\u001b[1;32m~\\Anaconda3\\envs\\DL1\\lib\\site-packages\\torch\\nn\\modules\\module.py\u001b[0m in \u001b[0;36m_apply\u001b[1;34m(self, fn)\u001b[0m\n\u001b[0;32m    550\u001b[0m                 \u001b[1;31m# `with torch.no_grad():`\u001b[0m\u001b[1;33m\u001b[0m\u001b[1;33m\u001b[0m\u001b[1;33m\u001b[0m\u001b[0m\n\u001b[0;32m    551\u001b[0m                 \u001b[1;32mwith\u001b[0m \u001b[0mtorch\u001b[0m\u001b[1;33m.\u001b[0m\u001b[0mno_grad\u001b[0m\u001b[1;33m(\u001b[0m\u001b[1;33m)\u001b[0m\u001b[1;33m:\u001b[0m\u001b[1;33m\u001b[0m\u001b[1;33m\u001b[0m\u001b[0m\n\u001b[1;32m--> 552\u001b[1;33m                     \u001b[0mparam_applied\u001b[0m \u001b[1;33m=\u001b[0m \u001b[0mfn\u001b[0m\u001b[1;33m(\u001b[0m\u001b[0mparam\u001b[0m\u001b[1;33m)\u001b[0m\u001b[1;33m\u001b[0m\u001b[1;33m\u001b[0m\u001b[0m\n\u001b[0m\u001b[0;32m    553\u001b[0m                 \u001b[0mshould_use_set_data\u001b[0m \u001b[1;33m=\u001b[0m \u001b[0mcompute_should_use_set_data\u001b[0m\u001b[1;33m(\u001b[0m\u001b[0mparam\u001b[0m\u001b[1;33m,\u001b[0m \u001b[0mparam_applied\u001b[0m\u001b[1;33m)\u001b[0m\u001b[1;33m\u001b[0m\u001b[1;33m\u001b[0m\u001b[0m\n\u001b[0;32m    554\u001b[0m                 \u001b[1;32mif\u001b[0m \u001b[0mshould_use_set_data\u001b[0m\u001b[1;33m:\u001b[0m\u001b[1;33m\u001b[0m\u001b[1;33m\u001b[0m\u001b[0m\n",
      "\u001b[1;32m~\\Anaconda3\\envs\\DL1\\lib\\site-packages\\torch\\nn\\modules\\module.py\u001b[0m in \u001b[0;36mconvert\u001b[1;34m(t)\u001b[0m\n\u001b[0;32m    848\u001b[0m                 return t.to(device, dtype if t.is_floating_point() or t.is_complex() else None,\n\u001b[0;32m    849\u001b[0m                             non_blocking, memory_format=convert_to_format)\n\u001b[1;32m--> 850\u001b[1;33m             \u001b[1;32mreturn\u001b[0m \u001b[0mt\u001b[0m\u001b[1;33m.\u001b[0m\u001b[0mto\u001b[0m\u001b[1;33m(\u001b[0m\u001b[0mdevice\u001b[0m\u001b[1;33m,\u001b[0m \u001b[0mdtype\u001b[0m \u001b[1;32mif\u001b[0m \u001b[0mt\u001b[0m\u001b[1;33m.\u001b[0m\u001b[0mis_floating_point\u001b[0m\u001b[1;33m(\u001b[0m\u001b[1;33m)\u001b[0m \u001b[1;32mor\u001b[0m \u001b[0mt\u001b[0m\u001b[1;33m.\u001b[0m\u001b[0mis_complex\u001b[0m\u001b[1;33m(\u001b[0m\u001b[1;33m)\u001b[0m \u001b[1;32melse\u001b[0m \u001b[1;32mNone\u001b[0m\u001b[1;33m,\u001b[0m \u001b[0mnon_blocking\u001b[0m\u001b[1;33m)\u001b[0m\u001b[1;33m\u001b[0m\u001b[1;33m\u001b[0m\u001b[0m\n\u001b[0m\u001b[0;32m    851\u001b[0m \u001b[1;33m\u001b[0m\u001b[0m\n\u001b[0;32m    852\u001b[0m         \u001b[1;32mreturn\u001b[0m \u001b[0mself\u001b[0m\u001b[1;33m.\u001b[0m\u001b[0m_apply\u001b[0m\u001b[1;33m(\u001b[0m\u001b[0mconvert\u001b[0m\u001b[1;33m)\u001b[0m\u001b[1;33m\u001b[0m\u001b[1;33m\u001b[0m\u001b[0m\n",
      "\u001b[1;31mRuntimeError\u001b[0m: CUDA error: device-side assert triggered\nCUDA kernel errors might be asynchronously reported at some other API call,so the stacktrace below might be incorrect.\nFor debugging consider passing CUDA_LAUNCH_BLOCKING=1."
     ]
    }
   ],
   "source": [
    "# with auto encoder:\n",
    "\n",
    "import torch.nn.functional as F\n",
    "class ConvAutoencoder(nn.Module):\n",
    "    def __init__(self):\n",
    "        super(ConvAutoencoder, self).__init__()\n",
    "           \n",
    "        self.flatten = nn.Flatten()\n",
    "        self.linear1 = nn.Linear(4608,4000)\n",
    "        self.linear2 = nn.Linear(4000,3500)\n",
    "        self.linear3 = nn.Linear(3500,3200)\n",
    "\n",
    "\n",
    "        \n",
    "        self.unflatten = nn.Unflatten(dim =1, unflattened_size = (32,10,10))\n",
    "        #Encoder\n",
    "        self.conv1 = nn.Conv2d(3, 8, 3, padding=1)\n",
    "        self.conv11 = nn.Conv2d(8, 16, 3, padding=1) \n",
    "        self.conv2 = nn.Conv2d(16, 32, 5, padding=2)\n",
    "        self.conv3 = nn.Conv2d(32, 64, 7, padding=3)\n",
    "        self.conv4 = nn.Conv2d(64, 50, 5, padding=2)\n",
    "        self.conv5 = nn.Conv2d(50, 40, 3, padding=1)\n",
    "        self.conv6 = nn.Conv2d(40, 32, 3, padding=1)\n",
    "       \n",
    "        self.pool = nn.MaxPool2d(2, 2)\n",
    "        \n",
    "        #Decoder\n",
    "        self.t_conv1 = nn.ConvTranspose2d(32, 40, 3, stride=2)\n",
    "        self.t_conv2 = nn.ConvTranspose2d(40, 64, 3, stride=1)\n",
    "        self.decode_conv1 = nn.Conv2d(64, 32, 5, padding=2)\n",
    "        self.t_conv3 = nn.ConvTranspose2d(32, 16 , 3, stride=1)\n",
    "        self.t_conv4 = nn.ConvTranspose2d(16, 3, 2, stride=2)\n",
    "\n",
    "    \n",
    "    def encode(self, x):\n",
    "        x = F.relu(self.conv1(x))\n",
    "        x = F.relu(self.conv11(x))\n",
    "        x = F.relu(self.conv2(x))\n",
    "        x = self.pool(x)\n",
    "        x = F.relu(self.conv3(x))\n",
    "        x = F.relu(self.conv4(x))\n",
    "        x = F.relu(self.conv5(x))\n",
    "        x = self.pool(x)\n",
    "        x = F.relu(self.conv6(x))\n",
    "        return x\n",
    "    \n",
    "    def flatlayer(self, x):\n",
    "        x = self.flatten(x)\n",
    "        x = self.linear1(x)\n",
    "        x = F.relu(x)\n",
    "        x = self.linear2(x)\n",
    "        x = F.relu(x)\n",
    "        x = self.linear3(x)\n",
    "        return x\n",
    "    \n",
    "    def decode(self, x):\n",
    "        x = self.unflatten(x)\n",
    "        x = F.relu(self.t_conv1(x))\n",
    "        x = F.relu(self.t_conv2(x))\n",
    "        x = F.relu(self.decode_conv1(x))\n",
    "        x = F.relu(self.t_conv3(x))\n",
    "        x = F.relu(self.t_conv4(x))\n",
    "        return x\n",
    "        \n",
    "    def forward(self, x):\n",
    "        x = self.encode(x)\n",
    "        x = self.flatlayer(x)\n",
    "        x = self.decode(x)      \n",
    "        return x\n",
    "\n",
    "\n",
    "#Instantiate the model\n",
    "model = ConvAutoencoder()\n",
    "\n",
    "#Send the model to the device\n",
    "model.to(device)\n",
    "# check the model output is the correct size\n",
    "run[\"model\"] = model\n",
    "model(dataiter.next()[0].to(device)).size()\n"
   ]
  },
  {
   "cell_type": "markdown",
   "id": "3ddd3fbb",
   "metadata": {},
   "source": [
    "### Set up the neptune parameters"
   ]
  },
  {
   "cell_type": "code",
   "execution_count": 18,
   "id": "bf7a3f25",
   "metadata": {},
   "outputs": [],
   "source": [
    "learning_rate = 0.0005\n",
    "#Loss function\n",
    "criterion = torch.nn.BCELoss()\n",
    "\n",
    "#Optimizer\n",
    "\n",
    "optimizer = torch.optim.Adam(model.parameters(), lr=learning_rate)\n",
    "\n",
    "def update_params():\n",
    "    run[\"parameters\"] = {\"lr\": learning_rate,\n",
    "                         \"optim\": str(optimizer).split(\" \")[0],\n",
    "                         \"loss_function\" : str(criterion),\n",
    "                         \"Batch_size\": batch_size\n",
    "                        }\n",
    "update_params()"
   ]
  },
  {
   "cell_type": "markdown",
   "id": "951e7ea2",
   "metadata": {},
   "source": [
    "### Create the training function"
   ]
  },
  {
   "cell_type": "code",
   "execution_count": 23,
   "id": "fb10431f",
   "metadata": {},
   "outputs": [],
   "source": [
    "#Epochs\n",
    "def train(model, n_epochs = 10, criterion = criterion, optimizer = optimizer, trainloader = trainloader):\n",
    "    for epoch in range(1, n_epochs+1):\n",
    "        # monitor training loss\n",
    "        train_loss = 0.0\n",
    "\n",
    "        #Training\n",
    "        for data in trainloader:\n",
    "            mask_image, image = data\n",
    "            mask_image , image = mask_image.to(device), image.to(device)\n",
    "            image = image.clone().detach().float()\n",
    "            mask_image = mask_image.clone().detach().float()\n",
    "            optimizer.zero_grad()\n",
    "            outputs = model(mask_image)\n",
    "            loss = criterion(outputs, image)\n",
    "            loss.backward()\n",
    "            optimizer.step()\n",
    "        if (epoch % 1 == 0):\n",
    "            train_loss += loss.item()\n",
    "            print('Epoch: {} \\tTraining Loss: {:.6f}'.format(epoch, train_loss))\n",
    "            run[\"train/loss\"].log(train_loss)\n",
    "        if (epoch % 50 ==0):\n",
    "            checpoint_name = \"checkpoint\" + str(epoch)\n",
    "            save_checkpoint(model, checpoint_name)\n",
    "           "
   ]
  },
  {
   "cell_type": "markdown",
   "id": "d4b84d99",
   "metadata": {},
   "source": [
    "### Train the model"
   ]
  },
  {
   "cell_type": "code",
   "execution_count": 26,
   "id": "56ce3b04",
   "metadata": {},
   "outputs": [
    {
     "ename": "RuntimeError",
     "evalue": "CUDA error: device-side assert triggered\nCUDA kernel errors might be asynchronously reported at some other API call,so the stacktrace below might be incorrect.\nFor debugging consider passing CUDA_LAUNCH_BLOCKING=1.",
     "output_type": "error",
     "traceback": [
      "\u001b[1;31m---------------------------------------------------------------------------\u001b[0m",
      "\u001b[1;31mRuntimeError\u001b[0m                              Traceback (most recent call last)",
      "\u001b[1;32m~\\AppData\\Local\\Temp/ipykernel_15248/3604568400.py\u001b[0m in \u001b[0;36m<module>\u001b[1;34m\u001b[0m\n\u001b[0;32m      1\u001b[0m \u001b[0mos\u001b[0m\u001b[1;33m.\u001b[0m\u001b[0menviron\u001b[0m\u001b[1;33m[\u001b[0m\u001b[1;34m'CUDA_LAUNCH_BLOCKING'\u001b[0m\u001b[1;33m]\u001b[0m \u001b[1;33m=\u001b[0m \u001b[1;34m'1'\u001b[0m\u001b[1;33m\u001b[0m\u001b[1;33m\u001b[0m\u001b[0m\n\u001b[1;32m----> 2\u001b[1;33m \u001b[0mtrain\u001b[0m\u001b[1;33m(\u001b[0m\u001b[0mmodel\u001b[0m\u001b[1;33m,\u001b[0m \u001b[0mn_epochs\u001b[0m \u001b[1;33m=\u001b[0m \u001b[1;36m20\u001b[0m\u001b[1;33m)\u001b[0m\u001b[1;33m\u001b[0m\u001b[1;33m\u001b[0m\u001b[0m\n\u001b[0m",
      "\u001b[1;32m~\\AppData\\Local\\Temp/ipykernel_15248/773609116.py\u001b[0m in \u001b[0;36mtrain\u001b[1;34m(model, n_epochs, criterion, optimizer, trainloader)\u001b[0m\n\u001b[0;32m      8\u001b[0m         \u001b[1;32mfor\u001b[0m \u001b[0mdata\u001b[0m \u001b[1;32min\u001b[0m \u001b[0mtrainloader\u001b[0m\u001b[1;33m:\u001b[0m\u001b[1;33m\u001b[0m\u001b[1;33m\u001b[0m\u001b[0m\n\u001b[0;32m      9\u001b[0m             \u001b[0mmask_image\u001b[0m\u001b[1;33m,\u001b[0m \u001b[0mimage\u001b[0m \u001b[1;33m=\u001b[0m \u001b[0mdata\u001b[0m\u001b[1;33m\u001b[0m\u001b[1;33m\u001b[0m\u001b[0m\n\u001b[1;32m---> 10\u001b[1;33m             \u001b[0mmask_image\u001b[0m \u001b[1;33m,\u001b[0m \u001b[0mimage\u001b[0m \u001b[1;33m=\u001b[0m \u001b[0mmask_image\u001b[0m\u001b[1;33m.\u001b[0m\u001b[0mto\u001b[0m\u001b[1;33m(\u001b[0m\u001b[0mdevice\u001b[0m\u001b[1;33m)\u001b[0m\u001b[1;33m,\u001b[0m \u001b[0mimage\u001b[0m\u001b[1;33m.\u001b[0m\u001b[0mto\u001b[0m\u001b[1;33m(\u001b[0m\u001b[0mdevice\u001b[0m\u001b[1;33m)\u001b[0m\u001b[1;33m\u001b[0m\u001b[1;33m\u001b[0m\u001b[0m\n\u001b[0m\u001b[0;32m     11\u001b[0m             \u001b[0mimage\u001b[0m \u001b[1;33m=\u001b[0m \u001b[0mimage\u001b[0m\u001b[1;33m.\u001b[0m\u001b[0mclone\u001b[0m\u001b[1;33m(\u001b[0m\u001b[1;33m)\u001b[0m\u001b[1;33m.\u001b[0m\u001b[0mdetach\u001b[0m\u001b[1;33m(\u001b[0m\u001b[1;33m)\u001b[0m\u001b[1;33m.\u001b[0m\u001b[0mfloat\u001b[0m\u001b[1;33m(\u001b[0m\u001b[1;33m)\u001b[0m\u001b[1;33m\u001b[0m\u001b[1;33m\u001b[0m\u001b[0m\n\u001b[0;32m     12\u001b[0m             \u001b[0mmask_image\u001b[0m \u001b[1;33m=\u001b[0m \u001b[0mmask_image\u001b[0m\u001b[1;33m.\u001b[0m\u001b[0mclone\u001b[0m\u001b[1;33m(\u001b[0m\u001b[1;33m)\u001b[0m\u001b[1;33m.\u001b[0m\u001b[0mdetach\u001b[0m\u001b[1;33m(\u001b[0m\u001b[1;33m)\u001b[0m\u001b[1;33m.\u001b[0m\u001b[0mfloat\u001b[0m\u001b[1;33m(\u001b[0m\u001b[1;33m)\u001b[0m\u001b[1;33m\u001b[0m\u001b[1;33m\u001b[0m\u001b[0m\n",
      "\u001b[1;31mRuntimeError\u001b[0m: CUDA error: device-side assert triggered\nCUDA kernel errors might be asynchronously reported at some other API call,so the stacktrace below might be incorrect.\nFor debugging consider passing CUDA_LAUNCH_BLOCKING=1."
     ]
    }
   ],
   "source": [
    "os.environ['CUDA_LAUNCH_BLOCKING'] = '1'\n",
    "train(model, n_epochs = 20)\n"
   ]
  },
  {
   "cell_type": "markdown",
   "id": "f32f618c",
   "metadata": {},
   "source": [
    "### function to print images:"
   ]
  },
  {
   "cell_type": "code",
   "execution_count": 15,
   "id": "e6eefbea",
   "metadata": {},
   "outputs": [],
   "source": [
    "def print_image(image, model, correct_image, neptune_upload = False):\n",
    "    fig, (ax1, ax2, ax3) = plt.subplots(1, 3)\n",
    "    ax1.imshow(np.transpose(image.numpy(), (1, 2, 0)).astype('uint8'))\n",
    "    ax2.imshow(np.transpose(correct_image.numpy(), (1, 2, 0)).astype('uint8'))\n",
    "    image = torch.unsqueeze(image,0)\n",
    "    image = image.clone().detach().float()\n",
    "    image = image.to(device)\n",
    "    output = model(image)\n",
    "    output = torch.squeeze(output,0)\n",
    "    if device.type == 'cuda':\n",
    "        output = torch.Tensor.cpu(output).clone().detach().numpy()\n",
    "    else:\n",
    "        output = output.clone().detach().numpy()\n",
    "        \n",
    "\n",
    "    ax3.imshow(np.transpose(output, (1, 2, 0)).astype('uint8'))\n",
    "    if neptune_upload:\n",
    "        run['Test_figures'].upload(fig)\n",
    "    plt.show()"
   ]
  },
  {
   "cell_type": "code",
   "execution_count": 16,
   "id": "645c6cea",
   "metadata": {},
   "outputs": [],
   "source": [
    "dataiter = iter(testloader)"
   ]
  },
  {
   "cell_type": "code",
   "execution_count": 17,
   "id": "f0715077",
   "metadata": {
    "scrolled": false
   },
   "outputs": [
    {
     "data": {
      "image/png": "[encoded data removed]",
      "text/plain": [
       "<Figure size 432x288 with 3 Axes>"
      ]
     },
     "metadata": {
      "needs_background": "light"
     },
     "output_type": "display_data"
    }
   ],
   "source": [
    "#Test a Model\n",
    "model.eval()\n",
    "\n",
    "images, images2 = dataiter.next()\n",
    "#print_image(images[0], model = model2, correct_image = images2[0])\n",
    "print_image(images[0], model = model, correct_image = images2[0], neptune_upload = True)"
   ]
  },
  {
   "cell_type": "code",
   "execution_count": 18,
   "id": "636aae27",
   "metadata": {},
   "outputs": [],
   "source": [
    "#Save the model as a artifact\n",
    "def save_checkpoint(model, checkpoint_name):\n",
    "    checkpoint_name_ext = checkpoint_name + \".pt\"\n",
    "    checkpoints = os.listdir(\"Checkpoints\")\n",
    "    path = os.path.join(\"Checkpoints\", checkpoint_name_ext)\n",
    "    try_number = 0\n",
    "    while (os.path.exists(path)):\n",
    "        try_number += 1\n",
    "        checkpoint_name_ext = checkpoint_name + \"_\" + str(try_number) + \".pt\"\n",
    "        path = os.path.join(\"Checkpoints\", checkpoint_name_ext)\n",
    "    torch.save(model, path)\n",
    "    neptune_checkpoint_path = 'model_checkpoints/' + checkpoint_name + \"_\" + str(try_number)\n",
    "    run[neptune_checkpoint_path].upload(path)"
   ]
  },
  {
   "cell_type": "code",
   "execution_count": 20,
   "id": "b1a76d2c",
   "metadata": {},
   "outputs": [],
   "source": [
    "save_checkpoint(model,\"size_50_20_epochs\")"
   ]
  },
  {
   "cell_type": "code",
   "execution_count": 130,
   "id": "259de4fa",
   "metadata": {},
   "outputs": [],
   "source": [
    "model = torch.load(\"Checkpoints/size_50_spohcs_300.pt\")"
   ]
  },
  {
   "cell_type": "code",
   "execution_count": 28,
   "id": "7286c319",
   "metadata": {},
   "outputs": [],
   "source": [
    "run['sys/tags'].add(['Failed'])"
   ]
  },
  {
   "cell_type": "markdown",
   "id": "517b0cc4",
   "metadata": {},
   "source": [
    "### Stop the run"
   ]
  },
  {
   "cell_type": "code",
   "execution_count": 29,
   "id": "58ada837",
   "metadata": {},
   "outputs": [
    {
     "name": "stdout",
     "output_type": "stream",
     "text": [
      "Shutting down background jobs, please wait a moment...\n",
      "Done!\n"
     ]
    },
    {
     "name": "stderr",
     "output_type": "stream",
     "text": [
      "Waiting for the remaining 1 operations to synchronize with Neptune. Do not kill this process.\n"
     ]
    },
    {
     "name": "stdout",
     "output_type": "stream",
     "text": [
      "All 1 operations synced, thanks for waiting!\n"
     ]
    }
   ],
   "source": [
    "run.stop()"
   ]
  },
  {
   "cell_type": "markdown",
   "id": "73c71873",
   "metadata": {},
   "source": [
    "## check speed of code:"
   ]
  },
  {
   "cell_type": "code",
   "execution_count": 87,
   "id": "fbf859f2",
   "metadata": {},
   "outputs": [],
   "source": [
    "%load_ext line_profiler"
   ]
  },
  {
   "cell_type": "code",
   "execution_count": 88,
   "id": "9675dc62",
   "metadata": {
    "scrolled": true
   },
   "outputs": [
    {
     "name": "stdout",
     "output_type": "stream",
     "text": [
      "Epoch: 1 \tTraining Loss: 333.655579\n",
      "Epoch: 2 \tTraining Loss: 434.678711\n"
     ]
    }
   ],
   "source": [
    "%lprun -f train train(model, n_epochs = 2)"
   ]
  }
 ],
 "metadata": {
  "kernelspec": {
   "display_name": "Python 3 (ipykernel)",
   "language": "python",
   "name": "python3"
  },
  "language_info": {
   "codemirror_mode": {
    "name": "ipython",
    "version": 3
   },
   "file_extension": ".py",
   "mimetype": "text/x-python",
   "name": "python",
   "nbconvert_exporter": "python",
   "pygments_lexer": "ipython3",
   "version": "3.8.11"
  },
  "neptune": {
   "notebookId": "9b2d4ae3-0121-433b-b63a-42c0c389e75b",
   "projectVersion": 2
  }
 },
 "nbformat": 4,
 "nbformat_minor": 5
}
