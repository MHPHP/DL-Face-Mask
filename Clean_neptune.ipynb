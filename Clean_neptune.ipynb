{
 "cells": [
  {
   "cell_type": "markdown",
   "id": "23dfb141",
   "metadata": {},
   "source": [
    "## A more clean notebook"
   ]
  },
  {
   "cell_type": "code",
   "execution_count": 2,
   "id": "de50b2e5",
   "metadata": {},
   "outputs": [],
   "source": [
    "# Load all packages\n",
    "import torch\n",
    "import torchvision\n",
    "import torchvision.transforms as transforms\n",
    "import os\n",
    "import numpy as np\n",
    "     \n",
    "from torchvision.io import read_image\n",
    "from torch.utils.data import Dataset\n",
    "from torchvision import datasets\n",
    "from torchvision.transforms import ToTensor\n",
    "import matplotlib.pyplot as plt\n",
    "import matplotlib\n",
    "from torch import nn\n",
    "import neptune.new as neptune"
   ]
  },
  {
   "cell_type": "markdown",
   "id": "25089712",
   "metadata": {},
   "source": [
    "### Start the neptune run"
   ]
  },
  {
   "cell_type": "code",
   "execution_count": 3,
   "id": "8955c64b",
   "metadata": {
    "scrolled": true
   },
   "outputs": [
    {
     "name": "stdout",
     "output_type": "stream",
     "text": [
      "https://app.neptune.ai/Facemask-project/Facemask/e/FAC-8\n",
      "Remember to stop your run once you’ve finished logging your metadata (https://docs.neptune.ai/api-reference/run#stop). It will be stopped automatically only when the notebook kernel/interactive console is terminated.\n"
     ]
    }
   ],
   "source": [
    "# Get the APi key, from outside the git folder.\n",
    "file = open(\"../API-key.txt\", \"r\")\n",
    "key = file.readlines()\n",
    "\n",
    "run = neptune.init(\n",
    "    project=\"Facemask-project/Facemask\",\n",
    "    api_token=key[0])\n",
    "\n",
    "# Choose the device:\n",
    "device = torch.device(\"cuda\") if torch.cuda.is_available() else torch.device(\"cpu\")"
   ]
  },
  {
   "cell_type": "markdown",
   "id": "3da3a140",
   "metadata": {},
   "source": [
    "## Create the dataloader\n",
    "\n",
    "This Dataloader is using read_image, which is not the fastest way to load files. It might be better to use the cv2 library."
   ]
  },
  {
   "cell_type": "code",
   "execution_count": 4,
   "id": "0124c237",
   "metadata": {},
   "outputs": [],
   "source": [
    "\n",
    "#Create the data loader. This data\n",
    "class DataLoader(Dataset):\n",
    "    def __init__(self, img_dir, img_dir2, transform = None, target_transform=None):\n",
    "        self.img_dir = img_dir\n",
    "        self.img_dir2 = img_dir2\n",
    "        self.transform = transform\n",
    "        self.fileNames = os.listdir(img_dir)\n",
    "    def __len__(self):\n",
    "        return len(os.listdir(self.img_dir))\n",
    "\n",
    "    def __getitem__(self, idx):\n",
    "        label = self.fileNames[idx].rsplit(\"t-mask-\", 1 )[1]\n",
    "        img_path = os.path.join(self.img_dir, self.fileNames[idx])\n",
    "        img_path2 = os.path.join(self.img_dir2, label)\n",
    "        image = read_image(img_path)\n",
    "        image2 = read_image(img_path2)\n",
    "        image = image.clone().detach().float()\n",
    "        image2 = image2.clone().detach().float()\n",
    "        if self.transform:\n",
    "            image = self.transform(image)\n",
    "            image2 = self.transform(image2)\n",
    "        return image, image2"
   ]
  },
  {
   "cell_type": "markdown",
   "id": "bccf4c77",
   "metadata": {},
   "source": [
    "## Set up the dataLoader"
   ]
  },
  {
   "cell_type": "code",
   "execution_count": 5,
   "id": "b66edb0b",
   "metadata": {},
   "outputs": [],
   "source": [
    "#Choose batch_size:\n",
    "batch_size = 25\n",
    "\n",
    "#create transformer with mean = 0 and std = 1.\n",
    "transformer=transforms.Compose([ transforms.Normalize((0, 0, 0), (1, 1, 1)),])\n",
    "\n",
    "#Create the dataset with the dataloader:\n",
    "dataset = DataLoader(\"Data_small/50_with_mask\", \"Data_small/50_without_mask\", transform = transformer) \n",
    "\n",
    "# split the dataset into test and train set.\n",
    "test_size = int(0.2 * len(dataset))\n",
    "train_size = len(dataset) - test_size\n",
    "test_train_split = [test_size, train_size]\n",
    "testdata, traindata = torch.utils.data.random_split(dataset = dataset, lengths = test_train_split)\n",
    "\n",
    "# Set up dataloader and the test\n",
    "trainloader = torch.utils.data.DataLoader(traindata, \n",
    "                                          batch_size=batch_size, \n",
    "                                          shuffle=True, \n",
    "                                          num_workers=0)\n",
    "testloader = torch.utils.data.DataLoader(testdata, \n",
    "                                          batch_size=1, \n",
    "                                          shuffle=True, \n",
    "                                          num_workers=0)\n",
    "dataiter = iter(trainloader)\n"
   ]
  },
  {
   "cell_type": "markdown",
   "id": "2e0c62da",
   "metadata": {},
   "source": [
    "## Set up the network"
   ]
  },
  {
   "cell_type": "code",
   "execution_count": 6,
   "id": "c9645b66",
   "metadata": {
    "scrolled": true
   },
   "outputs": [
    {
     "data": {
      "text/plain": [
       "ConvAutoencoder(\n",
       "  (flatten): Flatten(start_dim=1, end_dim=-1)\n",
       "  (linear1): Linear(in_features=1728, out_features=2500, bias=True)\n",
       "  (linear2): Linear(in_features=2500, out_features=1600, bias=True)\n",
       "  (linear3): Linear(in_features=1600, out_features=1200, bias=True)\n",
       "  (unflatten): Unflatten(dim=1, unflattened_size=(12, 10, 10))\n",
       "  (conv1): Conv2d(3, 16, kernel_size=(3, 3), stride=(1, 1), padding=(1, 1))\n",
       "  (conv2): Conv2d(16, 32, kernel_size=(3, 3), stride=(1, 1), padding=(1, 1))\n",
       "  (conv3): Conv2d(32, 44, kernel_size=(3, 3), stride=(1, 1), padding=(1, 1))\n",
       "  (conv4): Conv2d(44, 32, kernel_size=(3, 3), stride=(1, 1), padding=(1, 1))\n",
       "  (conv5): Conv2d(32, 16, kernel_size=(3, 3), stride=(1, 1), padding=(1, 1))\n",
       "  (conv6): Conv2d(16, 12, kernel_size=(3, 3), stride=(1, 1), padding=(1, 1))\n",
       "  (pool): MaxPool2d(kernel_size=2, stride=2, padding=0, dilation=1, ceil_mode=False)\n",
       "  (t_conv1): ConvTranspose2d(12, 16, kernel_size=(3, 3), stride=(3, 3), padding=(2, 2))\n",
       "  (t_conv2): ConvTranspose2d(16, 32, kernel_size=(3, 3), stride=(2, 2), padding=(2, 2))\n",
       "  (t_conv3): ConvTranspose2d(32, 16, kernel_size=(3, 3), stride=(1, 1), padding=(1, 1))\n",
       "  (t_conv4): ConvTranspose2d(16, 8, kernel_size=(2, 2), stride=(1, 1))\n",
       "  (t_conv5): ConvTranspose2d(8, 3, kernel_size=(3, 3), stride=(1, 1), padding=(1, 1))\n",
       ")"
      ]
     },
     "execution_count": 6,
     "metadata": {},
     "output_type": "execute_result"
    }
   ],
   "source": [
    "# with auto encoder:\n",
    "\n",
    "import torch.nn.functional as F\n",
    "class ConvAutoencoder(nn.Module):\n",
    "    def __init__(self):\n",
    "        super(ConvAutoencoder, self).__init__()\n",
    "           \n",
    "        self.flatten = nn.Flatten()\n",
    "        self.linear1 = nn.Linear(1728,2500)\n",
    "        self.linear2 = nn.Linear(2500,1600)\n",
    "        self.linear3 = nn.Linear(1600,1200)\n",
    "\n",
    "        \n",
    "        self.unflatten = nn.Unflatten(dim =1, unflattened_size = (12,10,10))\n",
    "        #Encoder\n",
    "        self.conv1 = nn.Conv2d(3, 16, 3, padding=1)  \n",
    "        self.conv2 = nn.Conv2d(16, 32, 3, padding=1)\n",
    "        self.conv3 = nn.Conv2d(32, 44, 3, padding=1)\n",
    "        self.conv4 = nn.Conv2d(44, 32, 3, padding=1)\n",
    "        self.conv5 = nn.Conv2d(32, 16, 3, padding=1)\n",
    "        self.conv6 = nn.Conv2d(16, 12, 3, padding=1)\n",
    "       \n",
    "        self.pool = nn.MaxPool2d(2, 2)\n",
    "        \n",
    "        #Decoder\n",
    "        self.t_conv1 = nn.ConvTranspose2d(12, 16, 3, stride=3, padding= 2)\n",
    "        self.t_conv2 = nn.ConvTranspose2d(16, 32, 3, stride=2, padding = 2)\n",
    "        self.t_conv3 = nn.ConvTranspose2d(32, 16 , 3, stride=1, padding = 1)\n",
    "        self.t_conv4 = nn.ConvTranspose2d(16, 8, 2, stride=1)\n",
    "        self.t_conv5 = nn.ConvTranspose2d(8, 3, 3, stride=1, padding = 1)\n",
    "    \n",
    "    def encode(self, x):\n",
    "        x = F.relu(self.conv1(x))\n",
    "        x = self.pool(x)\n",
    "        x = F.relu(self.conv2(x))\n",
    "        x = F.relu(self.conv3(x))\n",
    "        x = F.relu(self.conv4(x))\n",
    "        x = F.relu(self.conv5(x))\n",
    "        x = self.pool(x)\n",
    "        x = F.relu(self.conv6(x))\n",
    "        return x\n",
    "    \n",
    "    def flatlayer(self, x):\n",
    "        x = self.flatten(x)\n",
    "        x = F.relu(x)\n",
    "        x = self.linear1(x)\n",
    "        x = F.relu(x)\n",
    "        x = self.linear2(x)\n",
    "        x = F.relu(x)\n",
    "        x = self.linear3(x)\n",
    "        x = F.relu(x)\n",
    "        return x\n",
    "    \n",
    "    def decode(self, x):\n",
    "        x = self.unflatten(x)\n",
    "        x = F.relu(self.t_conv1(x))\n",
    "        x = F.relu(self.t_conv2(x))\n",
    "        x = F.relu(self.t_conv3(x))\n",
    "        x = F.relu(self.t_conv4(x))\n",
    "        x = F.relu(self.t_conv5(x))\n",
    "        return x\n",
    "        \n",
    "    def forward(self, x):\n",
    "        x = self.encode(x)\n",
    "        x = self.flatlayer(x)\n",
    "        x = self.decode(x)      \n",
    "        return x\n",
    "\n",
    "\n",
    "#Instantiate the model\n",
    "model = ConvAutoencoder()\n",
    "\n",
    "#Send the model to the device\n",
    "model.to(device)\n"
   ]
  },
  {
   "cell_type": "markdown",
   "id": "557b4505",
   "metadata": {},
   "source": [
    "### Set up the neptune parameters"
   ]
  },
  {
   "cell_type": "code",
   "execution_count": 7,
   "id": "ab646739",
   "metadata": {},
   "outputs": [],
   "source": [
    "learning_rate = 0.001\n",
    "#Loss function\n",
    "criterion = torch.nn.MSELoss()\n",
    "\n",
    "#Optimizer\n",
    "\n",
    "optimizer = torch.optim.Adam(model.parameters(), lr=learning_rate)\n",
    "\n",
    "run[\"parameters\"] = {\"lr\": learning_rate,\n",
    "                     \"optim\": str(optimizer).split(\" \")[0],\n",
    "                     \"loss_function\" : str(criterion),\n",
    "                     \"Batch_size\": batch_size}"
   ]
  },
  {
   "cell_type": "markdown",
   "id": "ba0b0d1b",
   "metadata": {},
   "source": [
    "### Create the training function"
   ]
  },
  {
   "cell_type": "code",
   "execution_count": 8,
   "id": "8ef6e618",
   "metadata": {},
   "outputs": [],
   "source": [
    "#Epochs\n",
    "def train(model, n_epochs = 10, criterion = criterion, optimizer = optimizer, trainloader = trainloader):\n",
    "    for epoch in range(1, n_epochs+1):\n",
    "        # monitor training loss\n",
    "        train_loss = 0.0\n",
    "\n",
    "        #Training\n",
    "        for data in trainloader:\n",
    "            mask_image, image = data\n",
    "            mask_image , image = mask_image.to(device), image.to(device)\n",
    "            image = image.clone().detach().float()\n",
    "            mask_image = mask_image.clone().detach().float()\n",
    "            optimizer.zero_grad()\n",
    "            outputs = model(mask_image)\n",
    "            loss = criterion(outputs, image)\n",
    "            loss.backward()\n",
    "            optimizer.step()\n",
    "        if (epoch % 1 == 0):\n",
    "            train_loss += loss.item()\n",
    "            print('Epoch: {} \\tTraining Loss: {:.6f}'.format(epoch, train_loss))\n",
    "            run[\"train/loss\"].log(train_loss)\n",
    "           "
   ]
  },
  {
   "cell_type": "markdown",
   "id": "84b5e815",
   "metadata": {},
   "source": [
    "### Train the model"
   ]
  },
  {
   "cell_type": "code",
   "execution_count": 26,
   "id": "de48c5cd",
   "metadata": {},
   "outputs": [
    {
     "name": "stdout",
     "output_type": "stream",
     "text": [
      "Epoch: 1 \tTraining Loss: 466.777985\n",
      "Epoch: 2 \tTraining Loss: 504.592651\n",
      "Epoch: 3 \tTraining Loss: 476.594055\n",
      "Epoch: 4 \tTraining Loss: 496.668365\n",
      "Epoch: 5 \tTraining Loss: 497.486420\n"
     ]
    }
   ],
   "source": [
    "train(model, n_epochs = 5)"
   ]
  },
  {
   "cell_type": "markdown",
   "id": "28814eaf",
   "metadata": {},
   "source": [
    "### function to print images:"
   ]
  },
  {
   "cell_type": "code",
   "execution_count": 10,
   "id": "9c535d51",
   "metadata": {},
   "outputs": [],
   "source": [
    "def print_image(image, model, correct_image):\n",
    "    fig, (ax1, ax2, ax3) = plt.subplots(1, 3)\n",
    "    ax1.imshow(np.transpose(image.numpy(), (1, 2, 0)).astype('uint8'))\n",
    "    ax2.imshow(np.transpose(correct_image.numpy(), (1, 2, 0)).astype('uint8'))\n",
    "    image = torch.unsqueeze(image,0)\n",
    "    image = image.clone().detach().float()\n",
    "    image = image.to(device)\n",
    "    output = model(image)\n",
    "    output = torch.squeeze(output,0)\n",
    "    if device.type == 'cuda':\n",
    "        output = torch.Tensor.cpu(output).clone().detach().numpy()\n",
    "    else:\n",
    "        output = output.clone().detach().numpy()\n",
    "        \n",
    "\n",
    "    ax3.imshow(np.transpose(output, (1, 2, 0)).astype('uint8'))\n",
    "    plt.show()"
   ]
  },
  {
   "cell_type": "code",
   "execution_count": 11,
   "id": "5225615c",
   "metadata": {},
   "outputs": [],
   "source": [
    "dataiter = iter(testloader)"
   ]
  },
  {
   "cell_type": "code",
   "execution_count": 25,
   "id": "9ad43410",
   "metadata": {},
   "outputs": [
    {
     "data": {
      "image/png": "[encoded data removed]",
      "text/plain": [
       "<Figure size 432x288 with 3 Axes>"
      ]
     },
     "metadata": {
      "needs_background": "light"
     },
     "output_type": "display_data"
    }
   ],
   "source": [
    "#Test a Model\n",
    "images, images2 = dataiter.next()\n",
    "#print_image(images[0], model = model2, correct_image = images2[0])\n",
    "print_image(images[0], model = model, correct_image = images2[0])"
   ]
  },
  {
   "cell_type": "markdown",
   "id": "1cf0d287",
   "metadata": {},
   "source": [
    "### Stop the run"
   ]
  },
  {
   "cell_type": "code",
   "execution_count": 93,
   "id": "be164d27",
   "metadata": {},
   "outputs": [
    {
     "name": "stdout",
     "output_type": "stream",
     "text": [
      "Shutting down background jobs, please wait a moment...\n",
      "Done!\n"
     ]
    },
    {
     "name": "stderr",
     "output_type": "stream",
     "text": [
      "Waiting for the remaining 1 operations to synchronize with Neptune. Do not kill this process.\n"
     ]
    },
    {
     "name": "stdout",
     "output_type": "stream",
     "text": [
      "All 1 operations synced, thanks for waiting!\n"
     ]
    }
   ],
   "source": [
    "run.stop()"
   ]
  },
  {
   "cell_type": "markdown",
   "id": "a51e6988",
   "metadata": {},
   "source": [
    "## check speed of code:"
   ]
  },
  {
   "cell_type": "code",
   "execution_count": null,
   "id": "c4c54fd6",
   "metadata": {},
   "outputs": [],
   "source": [
    "#%load_ext line_profiler"
   ]
  },
  {
   "cell_type": "code",
   "execution_count": 50,
   "id": "1062584d",
   "metadata": {
    "scrolled": true
   },
   "outputs": [
    {
     "name": "stdout",
     "output_type": "stream",
     "text": [
      "The line_profiler extension is already loaded. To reload it, use:\n",
      "  %reload_ext line_profiler\n",
      "Epoch: 1 \tTraining Loss: 432.126851\n"
     ]
    }
   ],
   "source": [
    "#%lprun -f train train(model, n_epochs = 1)"
   ]
  },
  {
   "cell_type": "code",
   "execution_count": null,
   "id": "bc306059",
   "metadata": {},
   "outputs": [],
   "source": [
    "torch.save(\"neptune1_50_40_ep\")"
   ]
  }
 ],
 "metadata": {
  "kernelspec": {
   "display_name": "Python 3 (ipykernel)",
   "language": "python",
   "name": "python3"
  },
  "language_info": {
   "codemirror_mode": {
    "name": "ipython",
    "version": 3
   },
   "file_extension": ".py",
   "mimetype": "text/x-python",
   "name": "python",
   "nbconvert_exporter": "python",
   "pygments_lexer": "ipython3",
   "version": "3.8.11"
  }
 },
 "nbformat": 4,
 "nbformat_minor": 5
}
