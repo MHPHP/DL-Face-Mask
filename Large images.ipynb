{
 "cells": [
  {
   "cell_type": "code",
   "execution_count": 181,
   "id": "263c9457",
   "metadata": {},
   "outputs": [],
   "source": [
    "# Load all packages\n",
    "import torch\n",
    "import torchvision\n",
    "import torchvision.transforms as transforms\n",
    "import os\n",
    "import numpy as np\n",
    "     \n",
    "from torchvision.io import read_image\n",
    "from torch.utils.data import Dataset\n",
    "from torchvision import datasets\n",
    "from torchvision.transforms import ToTensor\n",
    "import matplotlib.pyplot as plt\n",
    "import matplotlib\n",
    "from torch import nn\n",
    "import neptune.new as neptune\n",
    "import random"
   ]
  },
  {
   "cell_type": "code",
   "execution_count": 182,
   "id": "d25f63e1",
   "metadata": {},
   "outputs": [
    {
     "name": "stdout",
     "output_type": "stream",
     "text": [
      "https://app.neptune.ai/Facemask-project/Facemask/e/FAC-61\n",
      "Remember to stop your run once you’ve finished logging your metadata (https://docs.neptune.ai/api-reference/run#stop). It will be stopped automatically only when the notebook kernel/interactive console is terminated.\n"
     ]
    }
   ],
   "source": [
    "# Get the APi key, from outside the git folder.\n",
    "file = open(\"../API-key.txt\", \"r\")\n",
    "key = file.readlines()\n",
    "\n",
    "run = neptune.init(\n",
    "    project=\"Facemask-project/Facemask\",\n",
    "    api_token=key[0])\n",
    "\n",
    "# Choose the device:\n",
    "device = torch.device(\"cuda\") if torch.cuda.is_available() else torch.device(\"cpu\")"
   ]
  },
  {
   "cell_type": "code",
   "execution_count": 183,
   "id": "35a2a758",
   "metadata": {},
   "outputs": [],
   "source": [
    "run['namespace/Run_name'] = \"No_flat_layer_15\"\n",
    "run['sys/tags'].add(['size_125', \"no_argument\", \"no_flat_Layer\"])"
   ]
  },
  {
   "cell_type": "code",
   "execution_count": 184,
   "id": "64fef967",
   "metadata": {},
   "outputs": [],
   "source": [
    "device = torch.device(\"cuda\") if torch.cuda.is_available() else torch.device(\"cpu\")\n",
    "\n",
    "#Create the data loader. This data\n",
    "class DataLoader():\n",
    "    def __init__(self, img_dir, img_dir2, transform = None, target_transform=None, transforms = None,\n",
    "                 random_perspective = None, flip = None):\n",
    "        self.img_dir = img_dir\n",
    "        self.img_dir2 = img_dir2\n",
    "        self.transform = transform\n",
    "        self.transforms = transforms\n",
    "        self.fileNames = os.listdir(img_dir)\n",
    "        self.random_perspective = random_perspective\n",
    "    def __len__(self):\n",
    "        return len(os.listdir(self.img_dir))\n",
    "\n",
    "    def __getitem__(self, idx):\n",
    "        label = self.fileNames[idx].rsplit(\"t-mask-\", 1 )[1]\n",
    "        img_path = os.path.join(self.img_dir, self.fileNames[idx])\n",
    "        img_path2 = os.path.join(self.img_dir2, label)\n",
    "        image = read_image(img_path)\n",
    "        target_image = read_image(img_path2)\n",
    "        image = image.clone().detach().float()\n",
    "        target_image = target_image.clone().detach().float()\n",
    "        if self.transforms:\n",
    "            image = self.transforms(image)\n",
    "            target_image = self.transforms(target_image)\n",
    "        if self.random_perspective:\n",
    "            if random.uniform(0,1) > 0.5:\n",
    "                scale = random.uniform(0,0.3)\n",
    "                startpoints, endpoints = transforms.RandomPerspective().get_params(50,50, distortion_scale=scale)\n",
    "                image = torchvision.transforms.functional.perspective(image, startpoints, endpoints)\n",
    "                target_image  = torchvision.transforms.functional.perspective(target_image, startpoints, endpoints)\n",
    "        \n",
    "        return image, target_image"
   ]
  },
  {
   "cell_type": "code",
   "execution_count": 185,
   "id": "9a49ac23",
   "metadata": {},
   "outputs": [],
   "source": [
    "#Choose batch_size:\n",
    "batch_size = 25\n",
    "\n",
    "#create transformer with mean = 0 and std = 1.\n",
    "transformer=transforms.Compose([ transforms.Normalize((0, 0, 0), (1, 1, 1))])\n",
    "\n",
    "#Create the dataset with the dataloader:\n",
    "traindataset = DataLoader(\"Data_small/125_with_mask_train\", \"Data_small/125_without_mask_train\",\n",
    "                     transform = transformer,\n",
    "                    random_perspective = None) \n",
    "\n",
    "# split the dataset into test and train set.\n",
    "\n",
    "\n",
    "# Set up dataloader and the test\n",
    "trainloader = torch.utils.data.DataLoader(traindataset, \n",
    "                                          batch_size=batch_size, \n",
    "                                          shuffle=True, \n",
    "                                          num_workers=0,\n",
    "                                          pin_memory=True)\n",
    "testloader = torch.utils.data.DataLoader(testdata, \n",
    "                                          batch_size=1, \n",
    "                                          shuffle=True, \n",
    "                                          num_workers=0,\n",
    "                                          pin_memory=True)\n",
    "dataiter = iter(trainloader)\n"
   ]
  },
  {
   "cell_type": "code",
   "execution_count": 10,
   "id": "e9e09f1a",
   "metadata": {},
   "outputs": [
    {
     "data": {
      "text/plain": [
       "torch.Size([25, 3, 125, 125])"
      ]
     },
     "execution_count": 10,
     "metadata": {},
     "output_type": "execute_result"
    }
   ],
   "source": [
    "# with auto encoder:\n",
    "\n",
    "import torch.nn.functional as F\n",
    "class ConvAutoencoder(nn.Module):\n",
    "    def __init__(self):\n",
    "        super(ConvAutoencoder, self).__init__()\n",
    "           \n",
    "        self.flatten = nn.Flatten()\n",
    "        self.linear1 = nn.Linear(7200,5000)\n",
    "        self.linear2 = nn.Linear(5000,4800)\n",
    "        self.linear3 = nn.Linear(4800,4500)\n",
    "  \n",
    "\n",
    "        #Encoder\n",
    "        self.conv1 = nn.Conv2d(3, 8, 3, padding=1)\n",
    "        self.conv11 = nn.Conv2d(8, 16, 3, padding=1) \n",
    "        self.conv2 = nn.Conv2d(16, 32, 5, padding=2)\n",
    "        self.conv3 = nn.Conv2d(32, 50, 7, padding=3)\n",
    "        self.conv4 = nn.Conv2d(50, 60, 5, padding=2)\n",
    "        self.conv5 = nn.Conv2d(60, 40, 3, padding=1)\n",
    "        self.conv6 = nn.Conv2d(40, 20, 3, padding=1)\n",
    "       \n",
    "        self.pool = nn.MaxPool2d(2, 2)\n",
    "        self.unflatten = nn.Unflatten(dim =1, unflattened_size = (20,15,15))\n",
    "        \n",
    "        #Decoder\n",
    "        self.t_conv1 = nn.ConvTranspose2d(20, 32, 2, stride=2, output_padding = 1)\n",
    "        self.t_conv2 = nn.ConvTranspose2d(32, 64, 2, stride=2)\n",
    "        self.decode_conv1 =  nn.Conv2d(64, 128, 5, padding=2)\n",
    "        self.t_conv3 = nn.ConvTranspose2d(128, 64 , 2, stride=2)\n",
    "        self.t_conv4 = nn.ConvTranspose2d(64, 32, 2, stride=1)\n",
    "        self.decode_conv2 = nn.Conv2d(32, 16, 5, padding=2)\n",
    "        self.decode_conv3 = nn.Conv2d(16, 3, 3, padding=1)\n",
    "        \n",
    "\n",
    "    \n",
    "    def encode(self, x):\n",
    "        x = F.relu(self.conv1(x))\n",
    "        x = F.relu(self.conv11(x))\n",
    "        x = F.relu(self.conv2(x))\n",
    "        x = self.pool(x)\n",
    "        x = F.relu(self.conv3(x))\n",
    "        x = F.relu(self.conv4(x))\n",
    "        x = self.pool(x)\n",
    "        x = F.relu(self.conv5(x))\n",
    "        x = self.pool(x)\n",
    "        x = F.relu(self.conv6(x))\n",
    "        return x\n",
    "    \n",
    "    def flatlayer(self, x):\n",
    "        x = self.flatten(x)\n",
    "        x = self.linear1(x)\n",
    "        x = F.relu(x)\n",
    "        x = self.linear2(x)\n",
    "        x = F.relu(x)\n",
    "        x = self.linear3(x)\n",
    "        x = self.unflatten(x)\n",
    "        return x\n",
    "    \n",
    "    def decode(self, x):\n",
    "        x = F.relu(self.t_conv1(x))\n",
    "        x = F.relu(self.t_conv2(x))\n",
    "        x = F.relu(self.decode_conv1(x))\n",
    "        x = F.relu(self.t_conv3(x))\n",
    "        x = F.relu(self.t_conv4(x))\n",
    "        x = F.relu(self.decode_conv2(x))\n",
    "        x = F.relu(self.decode_conv3(x))\n",
    "        return x\n",
    "        \n",
    "    def forward(self, x):\n",
    "        x = self.encode(x)\n",
    "        #x = self.flatlayer(x)\n",
    "        x = self.decode(x)      \n",
    "        return x\n",
    "\n",
    "\n",
    "#Instantiate the model\n",
    "model = ConvAutoencoder()\n",
    "\n",
    "#Send the model to the device\n",
    "model.to(device)\n",
    "# check the model output is the correct size\n",
    "model(dataiter.next()[0].to(device)).size()"
   ]
  },
  {
   "cell_type": "code",
   "execution_count": 186,
   "id": "d29c94e4",
   "metadata": {},
   "outputs": [],
   "source": [
    "learning_rate = 0.00001\n",
    "#Loss function\n",
    "criterion = torch.nn.MSELoss()\n",
    "\n",
    "#Optimizer\n",
    "\n",
    "optimizer = torch.optim.Adam(model.parameters(), lr=learning_rate)\n",
    "\n",
    "def update_params():\n",
    "    run[\"parameters\"] = {\"lr\": learning_rate,\n",
    "                         \"optim\": str(optimizer).split(\" \")[0],\n",
    "                         \"loss_function\" : str(criterion),\n",
    "                         \"Batch_size\": batch_size,\n",
    "                         \"image_size\": 125\n",
    "                        }\n",
    "update_params()"
   ]
  },
  {
   "cell_type": "code",
   "execution_count": 132,
   "id": "91ddf103",
   "metadata": {},
   "outputs": [],
   "source": [
    "trainloader = torch.utils.data.DataLoader(traindataset, \n",
    "                                          batch_size=20, \n",
    "                                          shuffle=True, \n",
    "                                          num_workers=0,\n",
    "                                          pin_memory=True)"
   ]
  },
  {
   "cell_type": "code",
   "execution_count": 187,
   "id": "1376f251",
   "metadata": {},
   "outputs": [],
   "source": [
    "#Epochs\n",
    "def train(model, n_epochs = 10, criterion = criterion, optimizer = optimizer, trainloader = trainloader):\n",
    "    model.train()\n",
    "    for epoch in range(1, n_epochs+1):\n",
    "        # monitor training loss\n",
    "        train_loss = 0.0\n",
    "\n",
    "        #Training\n",
    "        for data in trainloader:\n",
    "            mask_image, image = data\n",
    "            mask_image , image = mask_image.to(device), image.to(device)\n",
    "            image = image.clone().detach().float()\n",
    "            mask_image = mask_image.clone().detach().float()\n",
    "            optimizer.zero_grad()\n",
    "            outputs = model(mask_image)\n",
    "            loss = criterion(outputs, image)\n",
    "            loss.backward()\n",
    "            optimizer.step()\n",
    "        if (epoch % 1 == 0):\n",
    "            train_loss += loss.item()\n",
    "            print('Epoch: {} \\tTraining Loss: {:.6f}'.format(epoch, train_loss))\n",
    "            run[\"train/loss\"].log(train_loss)\n",
    "        if (epoch % 50 ==0):\n",
    "            checpoint_name = \"checkpoint\" + str(epoch)\n",
    "            save_checkpoint(model, checpoint_name)"
   ]
  },
  {
   "cell_type": "code",
   "execution_count": 188,
   "id": "5295a692",
   "metadata": {},
   "outputs": [
    {
     "name": "stdout",
     "output_type": "stream",
     "text": [
      "Epoch: 1 \tTraining Loss: 132.394745\n",
      "Epoch: 2 \tTraining Loss: 141.403336\n",
      "Epoch: 3 \tTraining Loss: 134.635315\n",
      "Epoch: 4 \tTraining Loss: 132.232025\n",
      "Epoch: 5 \tTraining Loss: 139.595261\n",
      "Epoch: 6 \tTraining Loss: 131.059967\n",
      "Epoch: 7 \tTraining Loss: 139.201141\n",
      "Epoch: 8 \tTraining Loss: 151.263290\n",
      "Epoch: 9 \tTraining Loss: 133.433945\n",
      "Epoch: 10 \tTraining Loss: 130.597244\n",
      "Epoch: 11 \tTraining Loss: 145.586609\n",
      "Epoch: 12 \tTraining Loss: 131.587967\n",
      "Epoch: 13 \tTraining Loss: 139.576584\n",
      "Epoch: 14 \tTraining Loss: 140.844315\n",
      "Epoch: 15 \tTraining Loss: 149.942413\n",
      "Epoch: 16 \tTraining Loss: 127.578186\n",
      "Epoch: 17 \tTraining Loss: 136.053360\n",
      "Epoch: 18 \tTraining Loss: 140.838226\n",
      "Epoch: 19 \tTraining Loss: 121.701530\n",
      "Epoch: 20 \tTraining Loss: 123.038857\n",
      "Epoch: 21 \tTraining Loss: 136.719498\n",
      "Epoch: 22 \tTraining Loss: 124.279877\n",
      "Epoch: 23 \tTraining Loss: 133.302338\n",
      "Epoch: 24 \tTraining Loss: 127.277237\n",
      "Epoch: 25 \tTraining Loss: 129.597626\n",
      "Epoch: 26 \tTraining Loss: 126.147560\n",
      "Epoch: 27 \tTraining Loss: 126.425743\n",
      "Epoch: 28 \tTraining Loss: 145.801437\n",
      "Epoch: 29 \tTraining Loss: 123.174774\n",
      "Epoch: 30 \tTraining Loss: 157.774979\n",
      "Epoch: 31 \tTraining Loss: 116.682343\n",
      "Epoch: 32 \tTraining Loss: 163.788223\n",
      "Epoch: 33 \tTraining Loss: 128.515564\n",
      "Epoch: 34 \tTraining Loss: 130.358475\n",
      "Epoch: 35 \tTraining Loss: 143.723038\n",
      "Epoch: 36 \tTraining Loss: 134.577881\n",
      "Epoch: 37 \tTraining Loss: 124.069588\n",
      "Epoch: 38 \tTraining Loss: 124.258759\n",
      "Epoch: 39 \tTraining Loss: 150.142929\n",
      "Epoch: 40 \tTraining Loss: 130.030273\n",
      "Epoch: 41 \tTraining Loss: 128.997986\n",
      "Epoch: 42 \tTraining Loss: 120.976402\n",
      "Epoch: 43 \tTraining Loss: 136.676834\n",
      "Epoch: 44 \tTraining Loss: 117.583344\n",
      "Epoch: 45 \tTraining Loss: 126.256645\n",
      "Epoch: 46 \tTraining Loss: 138.340027\n",
      "Epoch: 47 \tTraining Loss: 131.548859\n",
      "Epoch: 48 \tTraining Loss: 122.624275\n",
      "Epoch: 49 \tTraining Loss: 144.544479\n",
      "Epoch: 50 \tTraining Loss: 130.728195\n"
     ]
    },
    {
     "name": "stderr",
     "output_type": "stream",
     "text": [
      "Unexpected error occurred in Neptune background thread: Killing Neptune asynchronous thread. All data is safe on disk and can be later synced manually using `neptune sync` command.\n",
      "Exception in thread Thread-25:\n",
      "Traceback (most recent call last):\n",
      "  File \"C:\\Users\\malth\\Anaconda3\\envs\\DL1\\lib\\threading.py\", line 932, in _bootstrap_inner\n",
      "    self.run()\n",
      "  File \"C:\\Users\\malth\\Anaconda3\\envs\\DL1\\lib\\site-packages\\neptune\\new\\internal\\threading\\daemon.py\", line 53, in run\n",
      "    self.work()\n",
      "  File \"C:\\Users\\malth\\Anaconda3\\envs\\DL1\\lib\\site-packages\\neptune\\new\\internal\\operation_processors\\async_operation_processor.py\", line 210, in work\n",
      "    self.process_batch(batch, version)\n",
      "  File \"C:\\Users\\malth\\Anaconda3\\envs\\DL1\\lib\\site-packages\\neptune\\new\\internal\\threading\\daemon.py\", line 77, in wrapper\n",
      "    result = func(self_, *args, **kwargs)\n",
      "  File \"C:\\Users\\malth\\Anaconda3\\envs\\DL1\\lib\\site-packages\\neptune\\new\\internal\\operation_processors\\async_operation_processor.py\", line 220, in process_batch\n",
      "    result = self._processor._backend.execute_operations(\n",
      "  File \"C:\\Users\\malth\\Anaconda3\\envs\\DL1\\lib\\site-packages\\neptune\\new\\internal\\backends\\hosted_neptune_backend.py\", line 385, in execute_operations\n",
      "    self._execute_upload_operations_with_400_retry(\n",
      "  File \"C:\\Users\\malth\\Anaconda3\\envs\\DL1\\lib\\site-packages\\neptune\\new\\internal\\backends\\hosted_neptune_backend.py\", line 451, in _execute_upload_operations_with_400_retry\n",
      "    return self._execute_upload_operations(run_id, upload_operations)\n",
      "  File \"C:\\Users\\malth\\Anaconda3\\envs\\DL1\\lib\\site-packages\\neptune\\new\\internal\\backends\\hosted_neptune_backend.py\", line 412, in _execute_upload_operations\n",
      "    error = upload_file_attribute(\n",
      "  File \"C:\\Users\\malth\\Anaconda3\\envs\\DL1\\lib\\site-packages\\neptune\\new\\internal\\backends\\hosted_file_operations.py\", line 90, in upload_file_attribute\n",
      "    swagger_client.api.getUploadConfig(**params).response().result\n",
      "  File \"C:\\Users\\malth\\Anaconda3\\envs\\DL1\\lib\\site-packages\\bravado\\http_future.py\", line 200, in response\n",
      "    swagger_result = self._get_swagger_result(incoming_response)\n",
      "  File \"C:\\Users\\malth\\Anaconda3\\envs\\DL1\\lib\\site-packages\\bravado\\http_future.py\", line 124, in wrapper\n",
      "    return func(self, *args, **kwargs)\n",
      "  File \"C:\\Users\\malth\\Anaconda3\\envs\\DL1\\lib\\site-packages\\bravado\\http_future.py\", line 300, in _get_swagger_result\n",
      "    unmarshal_response(\n",
      "  File \"C:\\Users\\malth\\Anaconda3\\envs\\DL1\\lib\\site-packages\\bravado\\http_future.py\", line 353, in unmarshal_response\n",
      "    raise_on_expected(incoming_response)\n",
      "  File \"C:\\Users\\malth\\Anaconda3\\envs\\DL1\\lib\\site-packages\\bravado\\http_future.py\", line 420, in raise_on_expected\n",
      "    raise make_http_exception(\n",
      "bravado.exception.HTTPNotFound: 404 \n"
     ]
    }
   ],
   "source": [
    "model.train()\n",
    "train(model, n_epochs = 50)\n"
   ]
  },
  {
   "cell_type": "code",
   "execution_count": 189,
   "id": "736a7e48",
   "metadata": {},
   "outputs": [],
   "source": [
    "def print_image(image, model, correct_image, neptune_upload = False):\n",
    "    fig, ((ax1, ax2), (ax3, ax4)) = plt.subplots(2, 2)\n",
    "    ax1.imshow(np.transpose(image.numpy(), (1, 2, 0)).astype('uint8'))\n",
    "    ax2.imshow(np.transpose(correct_image.numpy(), (1, 2, 0)).astype('uint8'))\n",
    "    image = torch.unsqueeze(image,0)\n",
    "    image = image.clone().detach().float()\n",
    "    image = image.to(device)\n",
    "    output = model(image)\n",
    "    output = torch.squeeze(output,0)\n",
    "    if device.type == 'cuda':\n",
    "        output = torch.Tensor.cpu(output).clone().detach()\n",
    "        correct = torch.Tensor.cpu(correct_image).clone().detach()\n",
    "    else:\n",
    "        output = output.clone().detach()\n",
    "        correct = correct_image.clone().detach()\n",
    "        \n",
    "\n",
    "    ax3.imshow(np.transpose(output.numpy(), (1, 2, 0)).astype('uint8'))\n",
    "    error = torch.sum(torch.abs(output - correct), 0)\n",
    "    ax4.imshow(error.numpy())\n",
    "    if neptune_upload:\n",
    "        run['Test_figures'].upload(fig)\n",
    "    plt.show()"
   ]
  },
  {
   "cell_type": "code",
   "execution_count": 190,
   "id": "8e7faa72",
   "metadata": {},
   "outputs": [],
   "source": [
    "testdataset = DataLoader(\"Data_small/125_with_mask_test\", \"Data_small/125_without_mask_test\",\n",
    "                     transform = transformer,\n",
    "                    random_perspective = None)\n",
    "testloader = torch.utils.data.DataLoader(testdataset, \n",
    "                                          batch_size=1, \n",
    "                                          shuffle=True, \n",
    "                                          num_workers=0,\n",
    "                                          pin_memory=True)\n",
    "dataiter = iter(testloader)"
   ]
  },
  {
   "cell_type": "code",
   "execution_count": 191,
   "id": "1ee848a4",
   "metadata": {},
   "outputs": [
    {
     "data": {
      "image/png": "[encoded data removed]",
      "text/plain": [
       "<Figure size 432x288 with 4 Axes>"
      ]
     },
     "metadata": {
      "needs_background": "light"
     },
     "output_type": "display_data"
    }
   ],
   "source": [
    "#Test a Model\n",
    "model.eval()\n",
    "\n",
    "\n",
    "images, images2 = dataiter.next()\n",
    "#print_image(images[0], model = model2, correct_image = images2[0])\n",
    "print_image(images[0], model = model, correct_image = images2[0], neptune_upload = True)"
   ]
  },
  {
   "cell_type": "code",
   "execution_count": 192,
   "id": "0b6d385f",
   "metadata": {},
   "outputs": [],
   "source": [
    "#Save the model as a artifact\n",
    "def save_checkpoint(model, checkpoint_name):\n",
    "    checkpoint_name_ext = checkpoint_name + \".pt\"\n",
    "    checkpoints = os.listdir(\"Checkpoints\")\n",
    "    path = os.path.join(\"Checkpoints\", checkpoint_name_ext)\n",
    "    try_number = 0\n",
    "    while (os.path.exists(path)):\n",
    "        try_number += 1\n",
    "        checkpoint_name_ext = checkpoint_name + \"_\" + str(try_number) + \".pt\"\n",
    "        path = os.path.join(\"Checkpoints\", checkpoint_name_ext)\n",
    "    torch.save(model, path)\n",
    "    neptune_checkpoint_path = 'model_checkpoints/' + checkpoint_name + \"_\" + str(try_number)\n",
    "    run[neptune_checkpoint_path].upload(path)"
   ]
  },
  {
   "cell_type": "code",
   "execution_count": 193,
   "id": "1d8f5130",
   "metadata": {},
   "outputs": [],
   "source": [
    "save_checkpoint(model,\"size_125_Large_model_no_flatlayer_150_epochs\")"
   ]
  },
  {
   "cell_type": "code",
   "execution_count": 194,
   "id": "b1aa6c9b",
   "metadata": {},
   "outputs": [],
   "source": [
    "run['sys/tags'].add([\"Good\", \"change_batch_size\", \"change_learning_rate\", \"not new\"])"
   ]
  },
  {
   "cell_type": "code",
   "execution_count": 195,
   "id": "7f08f312",
   "metadata": {},
   "outputs": [
    {
     "name": "stdout",
     "output_type": "stream",
     "text": [
      "Shutting down background jobs, please wait a moment...\n",
      "Done!\n"
     ]
    }
   ],
   "source": [
    "run.stop()"
   ]
  }
 ],
 "metadata": {
  "kernelspec": {
   "display_name": "Python 3 (ipykernel)",
   "language": "python",
   "name": "python3"
  },
  "language_info": {
   "codemirror_mode": {
    "name": "ipython",
    "version": 3
   },
   "file_extension": ".py",
   "mimetype": "text/x-python",
   "name": "python",
   "nbconvert_exporter": "python",
   "pygments_lexer": "ipython3",
   "version": "3.8.11"
  },
  "neptune": {
   "notebookId": "206798db-397a-4951-862d-4ecfafdf6ab0",
   "projectVersion": 2
  }
 },
 "nbformat": 4,
 "nbformat_minor": 5
}
