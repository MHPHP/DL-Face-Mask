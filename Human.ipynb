{
 "cells": [
  {
   "cell_type": "code",
   "execution_count": 1,
   "metadata": {},
   "outputs": [
    {
     "data": {
      "text/plain": [
       "<matplotlib.pyplot._IonContext at 0x2c39a3da5b0>"
      ]
     },
     "execution_count": 1,
     "metadata": {},
     "output_type": "execute_result"
    }
   ],
   "source": [
    "import torch\n",
    "import torchvision\n",
    "import torchvision.transforms as transforms\n",
    "\n",
    "import numpy as np\n",
    "import pandas as pd\n",
    "import os\n",
    "from torchvision.io import read_image\n",
    "from torch.utils.data import Dataset\n",
    "import matplotlib.pyplot as plt\n",
    "from torch import nn\n",
    "import torch.optim as optim\n",
    "import torch.nn.functional as F\n",
    "from torch import nn\n",
    "\n",
    "\n",
    "\n",
    "# Ignore warnings\n",
    "import warnings\n",
    "warnings.filterwarnings(\"ignore\")\n",
    "\n",
    "plt.ion()   # interactive mode"
   ]
  },
  {
   "cell_type": "markdown",
   "metadata": {},
   "source": [
    "Netværk"
   ]
  },
  {
   "cell_type": "code",
   "execution_count": 2,
   "metadata": {},
   "outputs": [],
   "source": [
    "# with auto encoder:\n",
    "\n",
    "import torch.nn.functional as F\n",
    "class ConvAutoencoder(nn.Module):\n",
    "    def __init__(self):\n",
    "        super(ConvAutoencoder, self).__init__()\n",
    "\n",
    "        \n",
    "        #Encoder\n",
    "        self.conv1 = nn.Conv2d(3, 16, 3, padding=1)\n",
    "        self.conv2 = nn.Conv2d(16, 32, 5, padding=2)\n",
    "        self.conv3 = nn.Conv2d(32, 64, 7, padding=3)\n",
    "        self.conv4 = nn.Conv2d(64, 128, 7, padding=3)\n",
    "        self.conv5 = nn.Conv2d(128, 256, 5, padding=2)\n",
    "        self.conv6 = nn.Conv2d(256, 128, 5, padding=2)\n",
    "        self.conv7 = nn.Conv2d(128, 64, 5, padding=2)\n",
    "        \n",
    "       \n",
    "        self.pool = nn.MaxPool2d(2, 2)\n",
    "        self.AvgPool = nn.AvgPool2d(2,2)\n",
    "        \n",
    "        \n",
    "        #Flat Layer\n",
    "        self.flatten = nn.Flatten()\n",
    "        self.linear1 = nn.Linear(2304,3000)\n",
    "        self.linear2 = nn.Linear(3000,4000)\n",
    "        self.linear3 = nn.Linear(4000,4500)\n",
    "        self.linear4 = nn.Linear(4500,5000)\n",
    "        self.unflatten = nn.Unflatten(dim =1, unflattened_size = (64,12,12))\n",
    "        \n",
    "        #Dropout\n",
    "        self.dropout = torch.nn.Dropout(p=0.15)\n",
    "        \n",
    "        #Decoder\n",
    "        self.t_conv1 = nn.ConvTranspose2d(64, 100, 2, stride=2, output_padding = 1)\n",
    "        self.decode_conv1 =  nn.Conv2d(100, 128, 7, padding=3)\n",
    "        self.decode_conv2 =  nn.Conv2d(128, 64, 5, padding=2)\n",
    "        self.decode_conv3 =  nn.Conv2d(64, 32, 5, padding=2)\n",
    "        self.decode_conv4 =  nn.Conv2d(32, 16, 3, padding=1)\n",
    "        self.t_conv2 = nn.ConvTranspose2d(16, 8, 2, stride=2)\n",
    "        self.decode_conv5 = nn.Conv2d(8, 3, 3, padding = 1)\n",
    "\n",
    "    \n",
    "    def encode(self, x):\n",
    "        x = F.relu(self.conv1(x))\n",
    "        x = F.relu(self.conv2(x))\n",
    "        x = self.pool(x)\n",
    "        x = F.relu(self.conv3(x))\n",
    "        #x = self.dropout(x)\n",
    "        x = F.relu(self.conv4(x))\n",
    "        x = self.AvgPool(x)\n",
    "        x = F.relu(self.conv5(x))\n",
    "        x = F.relu(self.conv6(x))\n",
    "        x = F.relu(self.conv7(x))\n",
    "        return x\n",
    "    \n",
    "    def flatlayer(self, x):\n",
    "        x = self.flatten(x)\n",
    "        x = self.linear1(x)\n",
    "        x = F.relu(x)\n",
    "        x = self.linear2(x)\n",
    "        x = F.relu(x)\n",
    "        x = F.relu(self.linear3(x))\n",
    "        x = F.relu(self.linear4(x))\n",
    "        x = self.unflatten(x)\n",
    "        return x\n",
    "    \n",
    "    def decode(self, x):\n",
    "        x = F.relu(self.t_conv1(x))\n",
    "        x = F.relu(self.decode_conv1(x))\n",
    "        #x = self.dropout(x)\n",
    "        x = F.relu(self.decode_conv2(x))\n",
    "        x = F.relu(self.decode_conv3(x))\n",
    "        x = F.relu(self.decode_conv4(x))\n",
    "        x = F.relu(self.t_conv2(x))\n",
    "        x = F.relu(self.decode_conv5(x))\n",
    "\n",
    "        return x\n",
    "        \n",
    "    def forward(self, x):\n",
    "        x = self.encode(x)\n",
    "        #x = self.flatlayer(x)\n",
    "        x = self.decode(x)      \n",
    "        return x\n",
    "\n"
   ]
  },
  {
   "cell_type": "markdown",
   "metadata": {},
   "source": [
    "Læse trænet model ind"
   ]
  },
  {
   "cell_type": "code",
   "execution_count": 3,
   "metadata": {},
   "outputs": [],
   "source": [
    "model = torch.load(\"Checkpoints/size_50_125_epochs_no_flat_layer_big_model.pt\")\n",
    "device = torch.device(\"cuda\") if torch.cuda.is_available() else torch.device(\"cpu\")\n"
   ]
  },
  {
   "cell_type": "markdown",
   "metadata": {},
   "source": [
    "Opdateret print_image funktion"
   ]
  },
  {
   "cell_type": "code",
   "execution_count": 4,
   "metadata": {},
   "outputs": [],
   "source": [
    "def print_image(image, model):\n",
    "    fig, (ax1, ax2) = plt.subplots(1, 2)\n",
    "    ax1.imshow(np.transpose(image.numpy(), (1, 2, 0)).astype('uint8'))\n",
    "    image = torch.unsqueeze(image,0)\n",
    "    image = torch.tensor(image).float()\n",
    "    image = image.to(device)\n",
    "    output = model(image)\n",
    "    output = torch.squeeze(output,0)\n",
    "    if device.type == 'cuda':\n",
    "        output = torch.Tensor.cpu(output).detach().numpy()\n",
    "    else:\n",
    "        output = output.detach().numpy()\n",
    "        \n",
    "\n",
    "    ax2.imshow(np.transpose(output, (1, 2, 0)).astype('uint8'))\n",
    "    plt.show()"
   ]
  },
  {
   "cell_type": "markdown",
   "metadata": {},
   "source": [
    "Ny dataloader"
   ]
  },
  {
   "cell_type": "code",
   "execution_count": 5,
   "metadata": {},
   "outputs": [],
   "source": [
    "\n",
    "transformer=transforms.Compose([\n",
    "                               transforms.Normalize((0, 0, 0), (1, 1, 1)),\n",
    "                               transforms.Resize((50,50))\n",
    "                           ])\n",
    "#Create the data loader\n",
    "class DataLoader_human(Dataset):\n",
    "    def __init__(self, img_dir, transform = None, target_transform=None):\n",
    "        self.img_dir = img_dir\n",
    "        self.transform = transform\n",
    "        self.fileNames = os.listdir(img_dir)\n",
    "    def __len__(self):\n",
    "        return len(os.listdir(self.img_dir))\n",
    "\n",
    "    def __getitem__(self, idx):\n",
    "        img_path = os.path.join(self.img_dir, self.fileNames[idx])\n",
    "        #image = torchvision.io.ImageReadMode.RGB(img_path)\n",
    "        \n",
    "        image = read_image(img_path, mode = torchvision.io.image.ImageReadMode.RGB)\n",
    "        \n",
    "        image = torch.tensor(image).float()\n",
    "        if self.transform:\n",
    "            image = self.transform(image)\n",
    "        return image"
   ]
  },
  {
   "cell_type": "markdown",
   "metadata": {},
   "source": [
    "Læse data ind"
   ]
  },
  {
   "cell_type": "code",
   "execution_count": null,
   "metadata": {},
   "outputs": [],
   "source": [
    "dataset = DataLoader_human(\"Data_real_human\",transform = transformer) \n",
    "batch_size = 1\n",
    "trainloader = torch.utils.data.DataLoader(dataset, \n",
    "                                          batch_size=batch_size, \n",
    "                                          shuffle=True, \n",
    "                                          num_workers=0)\n",
    "\n",
    "dataiter = iter(trainloader)\n",
    "for i in range(1):\n",
    "    images = dataiter.next()\n",
    "    print_image(images[0], model = model)"
   ]
  },
  {
   "cell_type": "markdown",
   "metadata": {},
   "source": [
    "Se hvor god model er"
   ]
  },
  {
   "cell_type": "code",
   "execution_count": null,
   "metadata": {},
   "outputs": [],
   "source": []
  }
 ],
 "metadata": {
  "kernelspec": {
   "display_name": "Python 3 (ipykernel)",
   "language": "python",
   "name": "python3"
  },
  "language_info": {
   "codemirror_mode": {
    "name": "ipython",
    "version": 3
   },
   "file_extension": ".py",
   "mimetype": "text/x-python",
   "name": "python",
   "nbconvert_exporter": "python",
   "pygments_lexer": "ipython3",
   "version": "3.8.11"
  }
 },
 "nbformat": 4,
 "nbformat_minor": 4
}
